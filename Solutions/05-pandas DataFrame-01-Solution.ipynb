{
  "nbformat": 4,
  "nbformat_minor": 0,
  "metadata": {
    "colab": {
      "name": "05-pandas DataFrame-01-Solution.ipynb",
      "version": "0.3.2",
      "provenance": [],
      "collapsed_sections": []
    },
    "kernelspec": {
      "name": "python3",
      "display_name": "Python 3"
    }
  },
  "cells": [
    {
      "cell_type": "markdown",
      "metadata": {
        "id": "WeQWqQpLbctP",
        "colab_type": "text"
      },
      "source": [
        "# pandasのデータフレーム"
      ]
    },
    {
      "cell_type": "code",
      "metadata": {
        "id": "qcfPbcsSbctQ",
        "colab_type": "code",
        "colab": {}
      },
      "source": [
        "import numpy as np\n",
        "import matplotlib.pyplot as plt\n",
        "import pandas as pd\n",
        "from pandas import Series, DataFrame"
      ],
      "execution_count": 0,
      "outputs": []
    },
    {
      "cell_type": "markdown",
      "metadata": {
        "id": "l-Z7xf3LbctV",
        "colab_type": "text"
      },
      "source": [
        "## 練習問題"
      ]
    },
    {
      "cell_type": "markdown",
      "metadata": {
        "id": "470CJy4UbctW",
        "colab_type": "text"
      },
      "source": [
        "(1) $0\\le x\\le 1$の範囲を等分した `num` 個の点ついて、「$\\sin(2\\pi x)$ + 正規分布の乱数（標準偏差0.3）」を計算した array を返す関数 `create_dataset(num)` を作成してください。"
      ]
    },
    {
      "cell_type": "code",
      "metadata": {
        "id": "pFRMHinlbctY",
        "colab_type": "code",
        "colab": {}
      },
      "source": [
        "from numpy.random import normal\n",
        "\n",
        "def create_dataset(num):\n",
        "    data_x = np.linspace(0, 1, num)\n",
        "    data_y = np.sin(2*np.pi*data_x) + normal(loc=0, scale=0.3, size=num)\n",
        "    return data_y"
      ],
      "execution_count": 0,
      "outputs": []
    },
    {
      "cell_type": "code",
      "metadata": {
        "id": "H-t2RadObctb",
        "colab_type": "code",
        "outputId": "b020e7f0-bbb3-4f84-b3ec-85152100af24",
        "colab": {
          "base_uri": "https://localhost:8080/",
          "height": 51
        }
      },
      "source": [
        "create_dataset(10)"
      ],
      "execution_count": 23,
      "outputs": [
        {
          "output_type": "execute_result",
          "data": {
            "text/plain": [
              "array([ 0.32037802,  0.83710299,  1.41702592,  0.75530236,  0.54956955,\n",
              "       -0.65222044, -0.9803128 , -1.00163979, -0.82009622, -0.329682  ])"
            ]
          },
          "metadata": {
            "tags": []
          },
          "execution_count": 23
        }
      ]
    },
    {
      "cell_type": "markdown",
      "metadata": {
        "id": "EkvP4SB8bcth",
        "colab_type": "text"
      },
      "source": [
        "(2) (1)の関数について、$x$ の値と、対応する「$y = \\sin(2\\pi x)$ + 正規分布の乱数（平均0, 標準偏差0.3）」の値を列に持つ DataFrame を返すように修正してください。（列の名前は、それぞれ `'x'` および `'y'`` とします。）\n",
        "\n",
        "例えば、次のような実装方法が考えられます。複数の方法を試してみてください。\n",
        "\n",
        "- 列 `'x'` と列 `'y'` に対応する array オブジェクト `data_x, data_y` を用意した後、これらを列に持つ DataFrame を定義する。（ディクショナリー形式のオプションで列を指定する。）\n",
        "- 列 `'x'` と列 `'y'` に対応する array オブジェクト `data_x, data_y` を用意した後、空の DataFrame を作成して、`df['x']=data_x` のように列名指定でデータを追加する。\n",
        "- 列 `'x'` と列 `'y'` を個別の Series オブジェクトとして作成した後、`pd.concat()` で結合する。"
      ]
    },
    {
      "cell_type": "code",
      "metadata": {
        "id": "J3A4CWzkbcti",
        "colab_type": "code",
        "colab": {}
      },
      "source": [
        "def create_dataset1(num):\n",
        "    data_x = np.linspace(0, 1, num)\n",
        "    data_y = np.sin(2*np.pi*data_x) + normal(loc=0, scale=0.3, size=num)\n",
        "    df = DataFrame({'x': data_x, 'y': data_y})\n",
        "    return df"
      ],
      "execution_count": 0,
      "outputs": []
    },
    {
      "cell_type": "code",
      "metadata": {
        "id": "XukVU6Jhbctn",
        "colab_type": "code",
        "outputId": "9073c7db-270d-4de8-8aa9-c1603e3a1919",
        "colab": {
          "base_uri": "https://localhost:8080/",
          "height": 359
        }
      },
      "source": [
        "create_dataset1(10)"
      ],
      "execution_count": 25,
      "outputs": [
        {
          "output_type": "execute_result",
          "data": {
            "text/html": [
              "<div>\n",
              "<style scoped>\n",
              "    .dataframe tbody tr th:only-of-type {\n",
              "        vertical-align: middle;\n",
              "    }\n",
              "\n",
              "    .dataframe tbody tr th {\n",
              "        vertical-align: top;\n",
              "    }\n",
              "\n",
              "    .dataframe thead th {\n",
              "        text-align: right;\n",
              "    }\n",
              "</style>\n",
              "<table border=\"1\" class=\"dataframe\">\n",
              "  <thead>\n",
              "    <tr style=\"text-align: right;\">\n",
              "      <th></th>\n",
              "      <th>x</th>\n",
              "      <th>y</th>\n",
              "    </tr>\n",
              "  </thead>\n",
              "  <tbody>\n",
              "    <tr>\n",
              "      <th>0</th>\n",
              "      <td>0.000000</td>\n",
              "      <td>0.180644</td>\n",
              "    </tr>\n",
              "    <tr>\n",
              "      <th>1</th>\n",
              "      <td>0.111111</td>\n",
              "      <td>0.793305</td>\n",
              "    </tr>\n",
              "    <tr>\n",
              "      <th>2</th>\n",
              "      <td>0.222222</td>\n",
              "      <td>1.198250</td>\n",
              "    </tr>\n",
              "    <tr>\n",
              "      <th>3</th>\n",
              "      <td>0.333333</td>\n",
              "      <td>1.348080</td>\n",
              "    </tr>\n",
              "    <tr>\n",
              "      <th>4</th>\n",
              "      <td>0.444444</td>\n",
              "      <td>0.756501</td>\n",
              "    </tr>\n",
              "    <tr>\n",
              "      <th>5</th>\n",
              "      <td>0.555556</td>\n",
              "      <td>-0.390609</td>\n",
              "    </tr>\n",
              "    <tr>\n",
              "      <th>6</th>\n",
              "      <td>0.666667</td>\n",
              "      <td>-0.824865</td>\n",
              "    </tr>\n",
              "    <tr>\n",
              "      <th>7</th>\n",
              "      <td>0.777778</td>\n",
              "      <td>-1.201622</td>\n",
              "    </tr>\n",
              "    <tr>\n",
              "      <th>8</th>\n",
              "      <td>0.888889</td>\n",
              "      <td>-0.431920</td>\n",
              "    </tr>\n",
              "    <tr>\n",
              "      <th>9</th>\n",
              "      <td>1.000000</td>\n",
              "      <td>-0.149392</td>\n",
              "    </tr>\n",
              "  </tbody>\n",
              "</table>\n",
              "</div>"
            ],
            "text/plain": [
              "          x         y\n",
              "0  0.000000  0.180644\n",
              "1  0.111111  0.793305\n",
              "2  0.222222  1.198250\n",
              "3  0.333333  1.348080\n",
              "4  0.444444  0.756501\n",
              "5  0.555556 -0.390609\n",
              "6  0.666667 -0.824865\n",
              "7  0.777778 -1.201622\n",
              "8  0.888889 -0.431920\n",
              "9  1.000000 -0.149392"
            ]
          },
          "metadata": {
            "tags": []
          },
          "execution_count": 25
        }
      ]
    },
    {
      "cell_type": "code",
      "metadata": {
        "id": "utBYG6Drbctw",
        "colab_type": "code",
        "colab": {}
      },
      "source": [
        "def create_dataset2(num):\n",
        "    data_x = np.linspace(0, 1, num)\n",
        "    data_y = np.sin(2*np.pi*data_x) + normal(loc=0, scale=0.3, size=num)\n",
        "    df = DataFrame()\n",
        "    df['x'] = data_x\n",
        "    df['y'] = data_y\n",
        "    return df"
      ],
      "execution_count": 0,
      "outputs": []
    },
    {
      "cell_type": "code",
      "metadata": {
        "scrolled": true,
        "id": "rvJ-E8Xpbct2",
        "colab_type": "code",
        "outputId": "4aaebdb3-c45e-449f-d7e1-f180f85c75a6",
        "colab": {
          "base_uri": "https://localhost:8080/",
          "height": 359
        }
      },
      "source": [
        "create_dataset2(10)"
      ],
      "execution_count": 27,
      "outputs": [
        {
          "output_type": "execute_result",
          "data": {
            "text/html": [
              "<div>\n",
              "<style scoped>\n",
              "    .dataframe tbody tr th:only-of-type {\n",
              "        vertical-align: middle;\n",
              "    }\n",
              "\n",
              "    .dataframe tbody tr th {\n",
              "        vertical-align: top;\n",
              "    }\n",
              "\n",
              "    .dataframe thead th {\n",
              "        text-align: right;\n",
              "    }\n",
              "</style>\n",
              "<table border=\"1\" class=\"dataframe\">\n",
              "  <thead>\n",
              "    <tr style=\"text-align: right;\">\n",
              "      <th></th>\n",
              "      <th>x</th>\n",
              "      <th>y</th>\n",
              "    </tr>\n",
              "  </thead>\n",
              "  <tbody>\n",
              "    <tr>\n",
              "      <th>0</th>\n",
              "      <td>0.000000</td>\n",
              "      <td>-0.107057</td>\n",
              "    </tr>\n",
              "    <tr>\n",
              "      <th>1</th>\n",
              "      <td>0.111111</td>\n",
              "      <td>0.780529</td>\n",
              "    </tr>\n",
              "    <tr>\n",
              "      <th>2</th>\n",
              "      <td>0.222222</td>\n",
              "      <td>0.735091</td>\n",
              "    </tr>\n",
              "    <tr>\n",
              "      <th>3</th>\n",
              "      <td>0.333333</td>\n",
              "      <td>1.041875</td>\n",
              "    </tr>\n",
              "    <tr>\n",
              "      <th>4</th>\n",
              "      <td>0.444444</td>\n",
              "      <td>0.284997</td>\n",
              "    </tr>\n",
              "    <tr>\n",
              "      <th>5</th>\n",
              "      <td>0.555556</td>\n",
              "      <td>-0.035956</td>\n",
              "    </tr>\n",
              "    <tr>\n",
              "      <th>6</th>\n",
              "      <td>0.666667</td>\n",
              "      <td>-1.013726</td>\n",
              "    </tr>\n",
              "    <tr>\n",
              "      <th>7</th>\n",
              "      <td>0.777778</td>\n",
              "      <td>-1.300634</td>\n",
              "    </tr>\n",
              "    <tr>\n",
              "      <th>8</th>\n",
              "      <td>0.888889</td>\n",
              "      <td>-0.801414</td>\n",
              "    </tr>\n",
              "    <tr>\n",
              "      <th>9</th>\n",
              "      <td>1.000000</td>\n",
              "      <td>-0.241150</td>\n",
              "    </tr>\n",
              "  </tbody>\n",
              "</table>\n",
              "</div>"
            ],
            "text/plain": [
              "          x         y\n",
              "0  0.000000 -0.107057\n",
              "1  0.111111  0.780529\n",
              "2  0.222222  0.735091\n",
              "3  0.333333  1.041875\n",
              "4  0.444444  0.284997\n",
              "5  0.555556 -0.035956\n",
              "6  0.666667 -1.013726\n",
              "7  0.777778 -1.300634\n",
              "8  0.888889 -0.801414\n",
              "9  1.000000 -0.241150"
            ]
          },
          "metadata": {
            "tags": []
          },
          "execution_count": 27
        }
      ]
    },
    {
      "cell_type": "code",
      "metadata": {
        "id": "l0TikPHxbct9",
        "colab_type": "code",
        "colab": {}
      },
      "source": [
        "def create_dataset3(num):\n",
        "    data_x = np.linspace(0, 1, num)\n",
        "    data_y = np.sin(2*np.pi*data_x) + normal(loc=0, scale=0.3, size=num)\n",
        "    col_x = Series(data_x, name='x')\n",
        "    col_y = Series(data_y, name='y')\n",
        "    df = pd.concat([col_x, col_y], axis=1)\n",
        "    return df"
      ],
      "execution_count": 0,
      "outputs": []
    },
    {
      "cell_type": "code",
      "metadata": {
        "scrolled": true,
        "id": "IB_21j5ibcuB",
        "colab_type": "code",
        "outputId": "8d409d8c-bb1c-4250-dcc7-e6fd49c84954",
        "colab": {
          "base_uri": "https://localhost:8080/",
          "height": 359
        }
      },
      "source": [
        "create_dataset3(10)"
      ],
      "execution_count": 29,
      "outputs": [
        {
          "output_type": "execute_result",
          "data": {
            "text/html": [
              "<div>\n",
              "<style scoped>\n",
              "    .dataframe tbody tr th:only-of-type {\n",
              "        vertical-align: middle;\n",
              "    }\n",
              "\n",
              "    .dataframe tbody tr th {\n",
              "        vertical-align: top;\n",
              "    }\n",
              "\n",
              "    .dataframe thead th {\n",
              "        text-align: right;\n",
              "    }\n",
              "</style>\n",
              "<table border=\"1\" class=\"dataframe\">\n",
              "  <thead>\n",
              "    <tr style=\"text-align: right;\">\n",
              "      <th></th>\n",
              "      <th>x</th>\n",
              "      <th>y</th>\n",
              "    </tr>\n",
              "  </thead>\n",
              "  <tbody>\n",
              "    <tr>\n",
              "      <th>0</th>\n",
              "      <td>0.000000</td>\n",
              "      <td>-0.257583</td>\n",
              "    </tr>\n",
              "    <tr>\n",
              "      <th>1</th>\n",
              "      <td>0.111111</td>\n",
              "      <td>0.644750</td>\n",
              "    </tr>\n",
              "    <tr>\n",
              "      <th>2</th>\n",
              "      <td>0.222222</td>\n",
              "      <td>0.788942</td>\n",
              "    </tr>\n",
              "    <tr>\n",
              "      <th>3</th>\n",
              "      <td>0.333333</td>\n",
              "      <td>1.134377</td>\n",
              "    </tr>\n",
              "    <tr>\n",
              "      <th>4</th>\n",
              "      <td>0.444444</td>\n",
              "      <td>0.612586</td>\n",
              "    </tr>\n",
              "    <tr>\n",
              "      <th>5</th>\n",
              "      <td>0.555556</td>\n",
              "      <td>-0.211719</td>\n",
              "    </tr>\n",
              "    <tr>\n",
              "      <th>6</th>\n",
              "      <td>0.666667</td>\n",
              "      <td>-1.012938</td>\n",
              "    </tr>\n",
              "    <tr>\n",
              "      <th>7</th>\n",
              "      <td>0.777778</td>\n",
              "      <td>-0.790863</td>\n",
              "    </tr>\n",
              "    <tr>\n",
              "      <th>8</th>\n",
              "      <td>0.888889</td>\n",
              "      <td>-0.782057</td>\n",
              "    </tr>\n",
              "    <tr>\n",
              "      <th>9</th>\n",
              "      <td>1.000000</td>\n",
              "      <td>-0.226650</td>\n",
              "    </tr>\n",
              "  </tbody>\n",
              "</table>\n",
              "</div>"
            ],
            "text/plain": [
              "          x         y\n",
              "0  0.000000 -0.257583\n",
              "1  0.111111  0.644750\n",
              "2  0.222222  0.788942\n",
              "3  0.333333  1.134377\n",
              "4  0.444444  0.612586\n",
              "5  0.555556 -0.211719\n",
              "6  0.666667 -1.012938\n",
              "7  0.777778 -0.790863\n",
              "8  0.888889 -0.782057\n",
              "9  1.000000 -0.226650"
            ]
          },
          "metadata": {
            "tags": []
          },
          "execution_count": 29
        }
      ]
    },
    {
      "cell_type": "markdown",
      "metadata": {
        "id": "o0ge1mkvbcuE",
        "colab_type": "text"
      },
      "source": [
        "(3) (2)の関数を用いて、`num=1000` のデータフレームを作成した後、`describe()` メソッドでデータの統計情報を確認してください。"
      ]
    },
    {
      "cell_type": "code",
      "metadata": {
        "id": "Yh6qupambcuE",
        "colab_type": "code",
        "outputId": "72ffa3cc-414e-41fb-bd4a-e3a7a96899e3",
        "colab": {
          "base_uri": "https://localhost:8080/",
          "height": 297
        }
      },
      "source": [
        "data = create_dataset1(1000)\n",
        "data.describe()"
      ],
      "execution_count": 30,
      "outputs": [
        {
          "output_type": "execute_result",
          "data": {
            "text/html": [
              "<div>\n",
              "<style scoped>\n",
              "    .dataframe tbody tr th:only-of-type {\n",
              "        vertical-align: middle;\n",
              "    }\n",
              "\n",
              "    .dataframe tbody tr th {\n",
              "        vertical-align: top;\n",
              "    }\n",
              "\n",
              "    .dataframe thead th {\n",
              "        text-align: right;\n",
              "    }\n",
              "</style>\n",
              "<table border=\"1\" class=\"dataframe\">\n",
              "  <thead>\n",
              "    <tr style=\"text-align: right;\">\n",
              "      <th></th>\n",
              "      <th>x</th>\n",
              "      <th>y</th>\n",
              "    </tr>\n",
              "  </thead>\n",
              "  <tbody>\n",
              "    <tr>\n",
              "      <th>count</th>\n",
              "      <td>1000.000000</td>\n",
              "      <td>1000.000000</td>\n",
              "    </tr>\n",
              "    <tr>\n",
              "      <th>mean</th>\n",
              "      <td>0.500000</td>\n",
              "      <td>-0.001483</td>\n",
              "    </tr>\n",
              "    <tr>\n",
              "      <th>std</th>\n",
              "      <td>0.289109</td>\n",
              "      <td>0.772053</td>\n",
              "    </tr>\n",
              "    <tr>\n",
              "      <th>min</th>\n",
              "      <td>0.000000</td>\n",
              "      <td>-1.912714</td>\n",
              "    </tr>\n",
              "    <tr>\n",
              "      <th>25%</th>\n",
              "      <td>0.250000</td>\n",
              "      <td>-0.688893</td>\n",
              "    </tr>\n",
              "    <tr>\n",
              "      <th>50%</th>\n",
              "      <td>0.500000</td>\n",
              "      <td>0.026113</td>\n",
              "    </tr>\n",
              "    <tr>\n",
              "      <th>75%</th>\n",
              "      <td>0.750000</td>\n",
              "      <td>0.653787</td>\n",
              "    </tr>\n",
              "    <tr>\n",
              "      <th>max</th>\n",
              "      <td>1.000000</td>\n",
              "      <td>1.795298</td>\n",
              "    </tr>\n",
              "  </tbody>\n",
              "</table>\n",
              "</div>"
            ],
            "text/plain": [
              "                 x            y\n",
              "count  1000.000000  1000.000000\n",
              "mean      0.500000    -0.001483\n",
              "std       0.289109     0.772053\n",
              "min       0.000000    -1.912714\n",
              "25%       0.250000    -0.688893\n",
              "50%       0.500000     0.026113\n",
              "75%       0.750000     0.653787\n",
              "max       1.000000     1.795298"
            ]
          },
          "metadata": {
            "tags": []
          },
          "execution_count": 30
        }
      ]
    }
  ]
}