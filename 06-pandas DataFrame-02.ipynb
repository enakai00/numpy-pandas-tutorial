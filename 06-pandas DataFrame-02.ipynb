{
  "nbformat": 4,
  "nbformat_minor": 0,
  "metadata": {
    "colab": {
      "name": "06-pandas DataFrame-02.ipynb",
      "version": "0.3.2",
      "provenance": [],
      "collapsed_sections": []
    },
    "kernelspec": {
      "name": "python3",
      "display_name": "Python 3"
    }
  },
  "cells": [
    {
      "cell_type": "markdown",
      "metadata": {
        "id": "_rrbArHzdFGz",
        "colab_type": "text"
      },
      "source": [
        "# データフレームからのデータの抽出"
      ]
    },
    {
      "cell_type": "code",
      "metadata": {
        "id": "-9ibGXDLdFG2",
        "colab_type": "code",
        "colab": {}
      },
      "source": [
        "import numpy as np\n",
        "import matplotlib.pyplot as plt\n",
        "import pandas as pd\n",
        "from pandas import Series, DataFrame"
      ],
      "execution_count": 0,
      "outputs": []
    },
    {
      "cell_type": "markdown",
      "metadata": {
        "id": "3A0n73yRdFG6",
        "colab_type": "text"
      },
      "source": [
        "### DataFrame から特定の列を Series として取り出す例です。"
      ]
    },
    {
      "cell_type": "code",
      "metadata": {
        "id": "D-VgFaO4dFG7",
        "colab_type": "code",
        "outputId": "d9c01f56-d81a-4893-e1a6-7ff9bcb6a7f2",
        "colab": {
          "base_uri": "https://localhost:8080/",
          "height": 204
        }
      },
      "source": [
        "from numpy.random import randint\n",
        "dices = randint(1, 7, (5, 2))\n",
        "diceroll = DataFrame(dices, columns=['dice1', 'dice2'])\n",
        "diceroll"
      ],
      "execution_count": 2,
      "outputs": [
        {
          "output_type": "execute_result",
          "data": {
            "text/html": [
              "<div>\n",
              "<style scoped>\n",
              "    .dataframe tbody tr th:only-of-type {\n",
              "        vertical-align: middle;\n",
              "    }\n",
              "\n",
              "    .dataframe tbody tr th {\n",
              "        vertical-align: top;\n",
              "    }\n",
              "\n",
              "    .dataframe thead th {\n",
              "        text-align: right;\n",
              "    }\n",
              "</style>\n",
              "<table border=\"1\" class=\"dataframe\">\n",
              "  <thead>\n",
              "    <tr style=\"text-align: right;\">\n",
              "      <th></th>\n",
              "      <th>dice1</th>\n",
              "      <th>dice2</th>\n",
              "    </tr>\n",
              "  </thead>\n",
              "  <tbody>\n",
              "    <tr>\n",
              "      <th>0</th>\n",
              "      <td>1</td>\n",
              "      <td>4</td>\n",
              "    </tr>\n",
              "    <tr>\n",
              "      <th>1</th>\n",
              "      <td>4</td>\n",
              "      <td>1</td>\n",
              "    </tr>\n",
              "    <tr>\n",
              "      <th>2</th>\n",
              "      <td>6</td>\n",
              "      <td>4</td>\n",
              "    </tr>\n",
              "    <tr>\n",
              "      <th>3</th>\n",
              "      <td>2</td>\n",
              "      <td>4</td>\n",
              "    </tr>\n",
              "    <tr>\n",
              "      <th>4</th>\n",
              "      <td>3</td>\n",
              "      <td>2</td>\n",
              "    </tr>\n",
              "  </tbody>\n",
              "</table>\n",
              "</div>"
            ],
            "text/plain": [
              "   dice1  dice2\n",
              "0      1      4\n",
              "1      4      1\n",
              "2      6      4\n",
              "3      2      4\n",
              "4      3      2"
            ]
          },
          "metadata": {
            "tags": []
          },
          "execution_count": 2
        }
      ]
    },
    {
      "cell_type": "markdown",
      "metadata": {
        "id": "Oy5C5mxKdFHE",
        "colab_type": "text"
      },
      "source": [
        "配列の index に column 名を指定して取り出します。"
      ]
    },
    {
      "cell_type": "code",
      "metadata": {
        "scrolled": true,
        "id": "si9YZrocdFHE",
        "colab_type": "code",
        "outputId": "0d39fb84-87a3-4d47-97b5-f18c8b1e5e1b",
        "colab": {
          "base_uri": "https://localhost:8080/",
          "height": 119
        }
      },
      "source": [
        "diceroll['dice1']"
      ],
      "execution_count": 3,
      "outputs": [
        {
          "output_type": "execute_result",
          "data": {
            "text/plain": [
              "0    1\n",
              "1    4\n",
              "2    6\n",
              "3    2\n",
              "4    3\n",
              "Name: dice1, dtype: int64"
            ]
          },
          "metadata": {
            "tags": []
          },
          "execution_count": 3
        }
      ]
    },
    {
      "cell_type": "markdown",
      "metadata": {
        "id": "tnzBcYAYdFHI",
        "colab_type": "text"
      },
      "source": [
        "column 名を属性に指定して取り出します。"
      ]
    },
    {
      "cell_type": "code",
      "metadata": {
        "scrolled": true,
        "id": "Gc6E1m1SdFHI",
        "colab_type": "code",
        "outputId": "52288b43-a04c-4782-de4b-bc509a5834f2",
        "colab": {
          "base_uri": "https://localhost:8080/",
          "height": 119
        }
      },
      "source": [
        "diceroll.dice1"
      ],
      "execution_count": 4,
      "outputs": [
        {
          "output_type": "execute_result",
          "data": {
            "text/plain": [
              "0    1\n",
              "1    4\n",
              "2    6\n",
              "3    2\n",
              "4    3\n",
              "Name: dice1, dtype: int64"
            ]
          },
          "metadata": {
            "tags": []
          },
          "execution_count": 4
        }
      ]
    },
    {
      "cell_type": "markdown",
      "metadata": {
        "id": "2_B3bgNrdFHL",
        "colab_type": "text"
      },
      "source": [
        "### 複数の列を DataFrame として取り出す例です。"
      ]
    },
    {
      "cell_type": "code",
      "metadata": {
        "id": "hZCsWnGhdFHM",
        "colab_type": "code",
        "outputId": "07d5a1cf-c809-466f-c2cb-2cb9a41bd3c8",
        "colab": {
          "base_uri": "https://localhost:8080/",
          "height": 173
        }
      },
      "source": [
        "data = {'City': ['Tokyo', 'Osaka', 'Nagoya', 'Okinawa'],\n",
        "                 'Temperature': [25.0, 28.2, 27.3, 30.9],\n",
        "                 'Humidity': [44, 42, np.nan, 62]}\n",
        "cities = DataFrame(data)\n",
        "cities"
      ],
      "execution_count": 5,
      "outputs": [
        {
          "output_type": "execute_result",
          "data": {
            "text/html": [
              "<div>\n",
              "<style scoped>\n",
              "    .dataframe tbody tr th:only-of-type {\n",
              "        vertical-align: middle;\n",
              "    }\n",
              "\n",
              "    .dataframe tbody tr th {\n",
              "        vertical-align: top;\n",
              "    }\n",
              "\n",
              "    .dataframe thead th {\n",
              "        text-align: right;\n",
              "    }\n",
              "</style>\n",
              "<table border=\"1\" class=\"dataframe\">\n",
              "  <thead>\n",
              "    <tr style=\"text-align: right;\">\n",
              "      <th></th>\n",
              "      <th>City</th>\n",
              "      <th>Temperature</th>\n",
              "      <th>Humidity</th>\n",
              "    </tr>\n",
              "  </thead>\n",
              "  <tbody>\n",
              "    <tr>\n",
              "      <th>0</th>\n",
              "      <td>Tokyo</td>\n",
              "      <td>25.0</td>\n",
              "      <td>44.0</td>\n",
              "    </tr>\n",
              "    <tr>\n",
              "      <th>1</th>\n",
              "      <td>Osaka</td>\n",
              "      <td>28.2</td>\n",
              "      <td>42.0</td>\n",
              "    </tr>\n",
              "    <tr>\n",
              "      <th>2</th>\n",
              "      <td>Nagoya</td>\n",
              "      <td>27.3</td>\n",
              "      <td>NaN</td>\n",
              "    </tr>\n",
              "    <tr>\n",
              "      <th>3</th>\n",
              "      <td>Okinawa</td>\n",
              "      <td>30.9</td>\n",
              "      <td>62.0</td>\n",
              "    </tr>\n",
              "  </tbody>\n",
              "</table>\n",
              "</div>"
            ],
            "text/plain": [
              "      City  Temperature  Humidity\n",
              "0    Tokyo         25.0      44.0\n",
              "1    Osaka         28.2      42.0\n",
              "2   Nagoya         27.3       NaN\n",
              "3  Okinawa         30.9      62.0"
            ]
          },
          "metadata": {
            "tags": []
          },
          "execution_count": 5
        }
      ]
    },
    {
      "cell_type": "code",
      "metadata": {
        "scrolled": true,
        "id": "0VBn8h32dFHP",
        "colab_type": "code",
        "outputId": "77077836-33c2-425d-b7f4-58e2da3628e2",
        "colab": {
          "base_uri": "https://localhost:8080/",
          "height": 173
        }
      },
      "source": [
        "cities[['City', 'Humidity']]"
      ],
      "execution_count": 6,
      "outputs": [
        {
          "output_type": "execute_result",
          "data": {
            "text/html": [
              "<div>\n",
              "<style scoped>\n",
              "    .dataframe tbody tr th:only-of-type {\n",
              "        vertical-align: middle;\n",
              "    }\n",
              "\n",
              "    .dataframe tbody tr th {\n",
              "        vertical-align: top;\n",
              "    }\n",
              "\n",
              "    .dataframe thead th {\n",
              "        text-align: right;\n",
              "    }\n",
              "</style>\n",
              "<table border=\"1\" class=\"dataframe\">\n",
              "  <thead>\n",
              "    <tr style=\"text-align: right;\">\n",
              "      <th></th>\n",
              "      <th>City</th>\n",
              "      <th>Humidity</th>\n",
              "    </tr>\n",
              "  </thead>\n",
              "  <tbody>\n",
              "    <tr>\n",
              "      <th>0</th>\n",
              "      <td>Tokyo</td>\n",
              "      <td>44.0</td>\n",
              "    </tr>\n",
              "    <tr>\n",
              "      <th>1</th>\n",
              "      <td>Osaka</td>\n",
              "      <td>42.0</td>\n",
              "    </tr>\n",
              "    <tr>\n",
              "      <th>2</th>\n",
              "      <td>Nagoya</td>\n",
              "      <td>NaN</td>\n",
              "    </tr>\n",
              "    <tr>\n",
              "      <th>3</th>\n",
              "      <td>Okinawa</td>\n",
              "      <td>62.0</td>\n",
              "    </tr>\n",
              "  </tbody>\n",
              "</table>\n",
              "</div>"
            ],
            "text/plain": [
              "      City  Humidity\n",
              "0    Tokyo      44.0\n",
              "1    Osaka      42.0\n",
              "2   Nagoya       NaN\n",
              "3  Okinawa      62.0"
            ]
          },
          "metadata": {
            "tags": []
          },
          "execution_count": 6
        }
      ]
    },
    {
      "cell_type": "markdown",
      "metadata": {
        "id": "9OR7Y6GKdFHT",
        "colab_type": "text"
      },
      "source": [
        "次のように、単一の列を DataFrame として取り出すこともできます。"
      ]
    },
    {
      "cell_type": "code",
      "metadata": {
        "id": "DPKC3MoMdFHU",
        "colab_type": "code",
        "outputId": "b9112781-0068-41c3-fb5d-20fa2eb95745",
        "colab": {
          "base_uri": "https://localhost:8080/",
          "height": 173
        }
      },
      "source": [
        "cities[['City']]"
      ],
      "execution_count": 7,
      "outputs": [
        {
          "output_type": "execute_result",
          "data": {
            "text/html": [
              "<div>\n",
              "<style scoped>\n",
              "    .dataframe tbody tr th:only-of-type {\n",
              "        vertical-align: middle;\n",
              "    }\n",
              "\n",
              "    .dataframe tbody tr th {\n",
              "        vertical-align: top;\n",
              "    }\n",
              "\n",
              "    .dataframe thead th {\n",
              "        text-align: right;\n",
              "    }\n",
              "</style>\n",
              "<table border=\"1\" class=\"dataframe\">\n",
              "  <thead>\n",
              "    <tr style=\"text-align: right;\">\n",
              "      <th></th>\n",
              "      <th>City</th>\n",
              "    </tr>\n",
              "  </thead>\n",
              "  <tbody>\n",
              "    <tr>\n",
              "      <th>0</th>\n",
              "      <td>Tokyo</td>\n",
              "    </tr>\n",
              "    <tr>\n",
              "      <th>1</th>\n",
              "      <td>Osaka</td>\n",
              "    </tr>\n",
              "    <tr>\n",
              "      <th>2</th>\n",
              "      <td>Nagoya</td>\n",
              "    </tr>\n",
              "    <tr>\n",
              "      <th>3</th>\n",
              "      <td>Okinawa</td>\n",
              "    </tr>\n",
              "  </tbody>\n",
              "</table>\n",
              "</div>"
            ],
            "text/plain": [
              "      City\n",
              "0    Tokyo\n",
              "1    Osaka\n",
              "2   Nagoya\n",
              "3  Okinawa"
            ]
          },
          "metadata": {
            "tags": []
          },
          "execution_count": 7
        }
      ]
    },
    {
      "cell_type": "markdown",
      "metadata": {
        "id": "8dFEbl0wdFHX",
        "colab_type": "text"
      },
      "source": [
        "次は Series として取り出す場合です。"
      ]
    },
    {
      "cell_type": "code",
      "metadata": {
        "id": "Gkm4GsuRdFHX",
        "colab_type": "code",
        "outputId": "f4a5d78c-5ac9-49c0-d12e-ab0b3ec3fbbb",
        "colab": {
          "base_uri": "https://localhost:8080/",
          "height": 102
        }
      },
      "source": [
        "cities['City']"
      ],
      "execution_count": 8,
      "outputs": [
        {
          "output_type": "execute_result",
          "data": {
            "text/plain": [
              "0      Tokyo\n",
              "1      Osaka\n",
              "2     Nagoya\n",
              "3    Okinawa\n",
              "Name: City, dtype: object"
            ]
          },
          "metadata": {
            "tags": []
          },
          "execution_count": 8
        }
      ]
    },
    {
      "cell_type": "markdown",
      "metadata": {
        "id": "g40n2ewZdFHa",
        "colab_type": "text"
      },
      "source": [
        "### DataFrame から行を指定して取り出す例です。"
      ]
    },
    {
      "cell_type": "markdown",
      "metadata": {
        "id": "r09w1P-DdFHb",
        "colab_type": "text"
      },
      "source": [
        "配列のスライス記法で取り出す行を指定します。"
      ]
    },
    {
      "cell_type": "code",
      "metadata": {
        "id": "Afv9w9fzdFHb",
        "colab_type": "code",
        "outputId": "214897d5-3197-4a05-d701-ccc6450079ba",
        "colab": {
          "base_uri": "https://localhost:8080/",
          "height": 111
        }
      },
      "source": [
        "cities[0:2]"
      ],
      "execution_count": 9,
      "outputs": [
        {
          "output_type": "execute_result",
          "data": {
            "text/html": [
              "<div>\n",
              "<style scoped>\n",
              "    .dataframe tbody tr th:only-of-type {\n",
              "        vertical-align: middle;\n",
              "    }\n",
              "\n",
              "    .dataframe tbody tr th {\n",
              "        vertical-align: top;\n",
              "    }\n",
              "\n",
              "    .dataframe thead th {\n",
              "        text-align: right;\n",
              "    }\n",
              "</style>\n",
              "<table border=\"1\" class=\"dataframe\">\n",
              "  <thead>\n",
              "    <tr style=\"text-align: right;\">\n",
              "      <th></th>\n",
              "      <th>City</th>\n",
              "      <th>Temperature</th>\n",
              "      <th>Humidity</th>\n",
              "    </tr>\n",
              "  </thead>\n",
              "  <tbody>\n",
              "    <tr>\n",
              "      <th>0</th>\n",
              "      <td>Tokyo</td>\n",
              "      <td>25.0</td>\n",
              "      <td>44.0</td>\n",
              "    </tr>\n",
              "    <tr>\n",
              "      <th>1</th>\n",
              "      <td>Osaka</td>\n",
              "      <td>28.2</td>\n",
              "      <td>42.0</td>\n",
              "    </tr>\n",
              "  </tbody>\n",
              "</table>\n",
              "</div>"
            ],
            "text/plain": [
              "    City  Temperature  Humidity\n",
              "0  Tokyo         25.0      44.0\n",
              "1  Osaka         28.2      42.0"
            ]
          },
          "metadata": {
            "tags": []
          },
          "execution_count": 9
        }
      ]
    },
    {
      "cell_type": "code",
      "metadata": {
        "id": "6kSBJs_rdFHg",
        "colab_type": "code",
        "outputId": "33b7ab33-064e-4a10-815a-24a7431ce701",
        "colab": {
          "base_uri": "https://localhost:8080/",
          "height": 80
        }
      },
      "source": [
        "cities[2:3]"
      ],
      "execution_count": 10,
      "outputs": [
        {
          "output_type": "execute_result",
          "data": {
            "text/html": [
              "<div>\n",
              "<style scoped>\n",
              "    .dataframe tbody tr th:only-of-type {\n",
              "        vertical-align: middle;\n",
              "    }\n",
              "\n",
              "    .dataframe tbody tr th {\n",
              "        vertical-align: top;\n",
              "    }\n",
              "\n",
              "    .dataframe thead th {\n",
              "        text-align: right;\n",
              "    }\n",
              "</style>\n",
              "<table border=\"1\" class=\"dataframe\">\n",
              "  <thead>\n",
              "    <tr style=\"text-align: right;\">\n",
              "      <th></th>\n",
              "      <th>City</th>\n",
              "      <th>Temperature</th>\n",
              "      <th>Humidity</th>\n",
              "    </tr>\n",
              "  </thead>\n",
              "  <tbody>\n",
              "    <tr>\n",
              "      <th>2</th>\n",
              "      <td>Nagoya</td>\n",
              "      <td>27.3</td>\n",
              "      <td>NaN</td>\n",
              "    </tr>\n",
              "  </tbody>\n",
              "</table>\n",
              "</div>"
            ],
            "text/plain": [
              "     City  Temperature  Humidity\n",
              "2  Nagoya         27.3       NaN"
            ]
          },
          "metadata": {
            "tags": []
          },
          "execution_count": 10
        }
      ]
    },
    {
      "cell_type": "code",
      "metadata": {
        "scrolled": true,
        "id": "yeGzGj69dFHl",
        "colab_type": "code",
        "outputId": "6248aa87-d144-4a10-81d3-5a7d484f176d",
        "colab": {
          "base_uri": "https://localhost:8080/",
          "height": 142
        }
      },
      "source": [
        "cities[1:]"
      ],
      "execution_count": 11,
      "outputs": [
        {
          "output_type": "execute_result",
          "data": {
            "text/html": [
              "<div>\n",
              "<style scoped>\n",
              "    .dataframe tbody tr th:only-of-type {\n",
              "        vertical-align: middle;\n",
              "    }\n",
              "\n",
              "    .dataframe tbody tr th {\n",
              "        vertical-align: top;\n",
              "    }\n",
              "\n",
              "    .dataframe thead th {\n",
              "        text-align: right;\n",
              "    }\n",
              "</style>\n",
              "<table border=\"1\" class=\"dataframe\">\n",
              "  <thead>\n",
              "    <tr style=\"text-align: right;\">\n",
              "      <th></th>\n",
              "      <th>City</th>\n",
              "      <th>Temperature</th>\n",
              "      <th>Humidity</th>\n",
              "    </tr>\n",
              "  </thead>\n",
              "  <tbody>\n",
              "    <tr>\n",
              "      <th>1</th>\n",
              "      <td>Osaka</td>\n",
              "      <td>28.2</td>\n",
              "      <td>42.0</td>\n",
              "    </tr>\n",
              "    <tr>\n",
              "      <th>2</th>\n",
              "      <td>Nagoya</td>\n",
              "      <td>27.3</td>\n",
              "      <td>NaN</td>\n",
              "    </tr>\n",
              "    <tr>\n",
              "      <th>3</th>\n",
              "      <td>Okinawa</td>\n",
              "      <td>30.9</td>\n",
              "      <td>62.0</td>\n",
              "    </tr>\n",
              "  </tbody>\n",
              "</table>\n",
              "</div>"
            ],
            "text/plain": [
              "      City  Temperature  Humidity\n",
              "1    Osaka         28.2      42.0\n",
              "2   Nagoya         27.3       NaN\n",
              "3  Okinawa         30.9      62.0"
            ]
          },
          "metadata": {
            "tags": []
          },
          "execution_count": 11
        }
      ]
    },
    {
      "cell_type": "markdown",
      "metadata": {
        "id": "bxlr_MM9dFHq",
        "colab_type": "text"
      },
      "source": [
        "特定の条件を満たす行だけを取り出すこともできます。"
      ]
    },
    {
      "cell_type": "code",
      "metadata": {
        "id": "_53n13sgdFHs",
        "colab_type": "code",
        "outputId": "eb94217e-cf74-42ea-da2b-c35b79d3558b",
        "colab": {
          "base_uri": "https://localhost:8080/",
          "height": 111
        }
      },
      "source": [
        "cities[cities['Temperature']>28]"
      ],
      "execution_count": 12,
      "outputs": [
        {
          "output_type": "execute_result",
          "data": {
            "text/html": [
              "<div>\n",
              "<style scoped>\n",
              "    .dataframe tbody tr th:only-of-type {\n",
              "        vertical-align: middle;\n",
              "    }\n",
              "\n",
              "    .dataframe tbody tr th {\n",
              "        vertical-align: top;\n",
              "    }\n",
              "\n",
              "    .dataframe thead th {\n",
              "        text-align: right;\n",
              "    }\n",
              "</style>\n",
              "<table border=\"1\" class=\"dataframe\">\n",
              "  <thead>\n",
              "    <tr style=\"text-align: right;\">\n",
              "      <th></th>\n",
              "      <th>City</th>\n",
              "      <th>Temperature</th>\n",
              "      <th>Humidity</th>\n",
              "    </tr>\n",
              "  </thead>\n",
              "  <tbody>\n",
              "    <tr>\n",
              "      <th>1</th>\n",
              "      <td>Osaka</td>\n",
              "      <td>28.2</td>\n",
              "      <td>42.0</td>\n",
              "    </tr>\n",
              "    <tr>\n",
              "      <th>3</th>\n",
              "      <td>Okinawa</td>\n",
              "      <td>30.9</td>\n",
              "      <td>62.0</td>\n",
              "    </tr>\n",
              "  </tbody>\n",
              "</table>\n",
              "</div>"
            ],
            "text/plain": [
              "      City  Temperature  Humidity\n",
              "1    Osaka         28.2      42.0\n",
              "3  Okinawa         30.9      62.0"
            ]
          },
          "metadata": {
            "tags": []
          },
          "execution_count": 12
        }
      ]
    },
    {
      "cell_type": "markdown",
      "metadata": {
        "id": "JL7NjHi5dFH3",
        "colab_type": "text"
      },
      "source": [
        "### 行と列の両方を指定して取り出す例です。"
      ]
    },
    {
      "cell_type": "code",
      "metadata": {
        "id": "EewmFmf-dFH4",
        "colab_type": "code",
        "outputId": "667a22af-63af-45dc-f456-d1ad5a027a8d",
        "colab": {
          "base_uri": "https://localhost:8080/",
          "height": 173
        }
      },
      "source": [
        "cities"
      ],
      "execution_count": 13,
      "outputs": [
        {
          "output_type": "execute_result",
          "data": {
            "text/html": [
              "<div>\n",
              "<style scoped>\n",
              "    .dataframe tbody tr th:only-of-type {\n",
              "        vertical-align: middle;\n",
              "    }\n",
              "\n",
              "    .dataframe tbody tr th {\n",
              "        vertical-align: top;\n",
              "    }\n",
              "\n",
              "    .dataframe thead th {\n",
              "        text-align: right;\n",
              "    }\n",
              "</style>\n",
              "<table border=\"1\" class=\"dataframe\">\n",
              "  <thead>\n",
              "    <tr style=\"text-align: right;\">\n",
              "      <th></th>\n",
              "      <th>City</th>\n",
              "      <th>Temperature</th>\n",
              "      <th>Humidity</th>\n",
              "    </tr>\n",
              "  </thead>\n",
              "  <tbody>\n",
              "    <tr>\n",
              "      <th>0</th>\n",
              "      <td>Tokyo</td>\n",
              "      <td>25.0</td>\n",
              "      <td>44.0</td>\n",
              "    </tr>\n",
              "    <tr>\n",
              "      <th>1</th>\n",
              "      <td>Osaka</td>\n",
              "      <td>28.2</td>\n",
              "      <td>42.0</td>\n",
              "    </tr>\n",
              "    <tr>\n",
              "      <th>2</th>\n",
              "      <td>Nagoya</td>\n",
              "      <td>27.3</td>\n",
              "      <td>NaN</td>\n",
              "    </tr>\n",
              "    <tr>\n",
              "      <th>3</th>\n",
              "      <td>Okinawa</td>\n",
              "      <td>30.9</td>\n",
              "      <td>62.0</td>\n",
              "    </tr>\n",
              "  </tbody>\n",
              "</table>\n",
              "</div>"
            ],
            "text/plain": [
              "      City  Temperature  Humidity\n",
              "0    Tokyo         25.0      44.0\n",
              "1    Osaka         28.2      42.0\n",
              "2   Nagoya         27.3       NaN\n",
              "3  Okinawa         30.9      62.0"
            ]
          },
          "metadata": {
            "tags": []
          },
          "execution_count": 13
        }
      ]
    },
    {
      "cell_type": "markdown",
      "metadata": {
        "id": "KIAhPAXvdFH8",
        "colab_type": "text"
      },
      "source": [
        "`loc` メソッドを使用して、行と列を名前で指定します。"
      ]
    },
    {
      "cell_type": "code",
      "metadata": {
        "scrolled": false,
        "id": "fpNLmqhpdFH9",
        "colab_type": "code",
        "outputId": "6bca54dc-0fcb-4621-df2a-a18448b6eea1",
        "colab": {
          "base_uri": "https://localhost:8080/",
          "height": 111
        }
      },
      "source": [
        "cities.loc[[0, 2], ['City', 'Humidity']]"
      ],
      "execution_count": 14,
      "outputs": [
        {
          "output_type": "execute_result",
          "data": {
            "text/html": [
              "<div>\n",
              "<style scoped>\n",
              "    .dataframe tbody tr th:only-of-type {\n",
              "        vertical-align: middle;\n",
              "    }\n",
              "\n",
              "    .dataframe tbody tr th {\n",
              "        vertical-align: top;\n",
              "    }\n",
              "\n",
              "    .dataframe thead th {\n",
              "        text-align: right;\n",
              "    }\n",
              "</style>\n",
              "<table border=\"1\" class=\"dataframe\">\n",
              "  <thead>\n",
              "    <tr style=\"text-align: right;\">\n",
              "      <th></th>\n",
              "      <th>City</th>\n",
              "      <th>Humidity</th>\n",
              "    </tr>\n",
              "  </thead>\n",
              "  <tbody>\n",
              "    <tr>\n",
              "      <th>0</th>\n",
              "      <td>Tokyo</td>\n",
              "      <td>44.0</td>\n",
              "    </tr>\n",
              "    <tr>\n",
              "      <th>2</th>\n",
              "      <td>Nagoya</td>\n",
              "      <td>NaN</td>\n",
              "    </tr>\n",
              "  </tbody>\n",
              "</table>\n",
              "</div>"
            ],
            "text/plain": [
              "     City  Humidity\n",
              "0   Tokyo      44.0\n",
              "2  Nagoya       NaN"
            ]
          },
          "metadata": {
            "tags": []
          },
          "execution_count": 14
        }
      ]
    },
    {
      "cell_type": "markdown",
      "metadata": {
        "id": "tS_NMhtjhQe8",
        "colab_type": "text"
      },
      "source": [
        "`iloc` メソッドを使用して、行と列を番号で指定します。"
      ]
    },
    {
      "cell_type": "code",
      "metadata": {
        "id": "N3NQztFGhUH8",
        "colab_type": "code",
        "outputId": "5a6fdb46-1519-4acf-a1d3-42c7f367dae8",
        "colab": {
          "base_uri": "https://localhost:8080/",
          "height": 111
        }
      },
      "source": [
        "cities.iloc[[0, 2], [0, 1]]"
      ],
      "execution_count": 15,
      "outputs": [
        {
          "output_type": "execute_result",
          "data": {
            "text/html": [
              "<div>\n",
              "<style scoped>\n",
              "    .dataframe tbody tr th:only-of-type {\n",
              "        vertical-align: middle;\n",
              "    }\n",
              "\n",
              "    .dataframe tbody tr th {\n",
              "        vertical-align: top;\n",
              "    }\n",
              "\n",
              "    .dataframe thead th {\n",
              "        text-align: right;\n",
              "    }\n",
              "</style>\n",
              "<table border=\"1\" class=\"dataframe\">\n",
              "  <thead>\n",
              "    <tr style=\"text-align: right;\">\n",
              "      <th></th>\n",
              "      <th>City</th>\n",
              "      <th>Temperature</th>\n",
              "    </tr>\n",
              "  </thead>\n",
              "  <tbody>\n",
              "    <tr>\n",
              "      <th>0</th>\n",
              "      <td>Tokyo</td>\n",
              "      <td>25.0</td>\n",
              "    </tr>\n",
              "    <tr>\n",
              "      <th>2</th>\n",
              "      <td>Nagoya</td>\n",
              "      <td>27.3</td>\n",
              "    </tr>\n",
              "  </tbody>\n",
              "</table>\n",
              "</div>"
            ],
            "text/plain": [
              "     City  Temperature\n",
              "0   Tokyo         25.0\n",
              "2  Nagoya         27.3"
            ]
          },
          "metadata": {
            "tags": []
          },
          "execution_count": 15
        }
      ]
    },
    {
      "cell_type": "markdown",
      "metadata": {
        "id": "PdW1i5brdFH_",
        "colab_type": "text"
      },
      "source": [
        "### DataFrame の行ごとに処理をする例です。"
      ]
    },
    {
      "cell_type": "code",
      "metadata": {
        "scrolled": true,
        "id": "LkxTkxRndFIA",
        "colab_type": "code",
        "outputId": "b2c53b01-8e61-452e-ca4d-b6b2b13fb9a7",
        "colab": {
          "base_uri": "https://localhost:8080/",
          "height": 173
        }
      },
      "source": [
        "cities"
      ],
      "execution_count": 16,
      "outputs": [
        {
          "output_type": "execute_result",
          "data": {
            "text/html": [
              "<div>\n",
              "<style scoped>\n",
              "    .dataframe tbody tr th:only-of-type {\n",
              "        vertical-align: middle;\n",
              "    }\n",
              "\n",
              "    .dataframe tbody tr th {\n",
              "        vertical-align: top;\n",
              "    }\n",
              "\n",
              "    .dataframe thead th {\n",
              "        text-align: right;\n",
              "    }\n",
              "</style>\n",
              "<table border=\"1\" class=\"dataframe\">\n",
              "  <thead>\n",
              "    <tr style=\"text-align: right;\">\n",
              "      <th></th>\n",
              "      <th>City</th>\n",
              "      <th>Temperature</th>\n",
              "      <th>Humidity</th>\n",
              "    </tr>\n",
              "  </thead>\n",
              "  <tbody>\n",
              "    <tr>\n",
              "      <th>0</th>\n",
              "      <td>Tokyo</td>\n",
              "      <td>25.0</td>\n",
              "      <td>44.0</td>\n",
              "    </tr>\n",
              "    <tr>\n",
              "      <th>1</th>\n",
              "      <td>Osaka</td>\n",
              "      <td>28.2</td>\n",
              "      <td>42.0</td>\n",
              "    </tr>\n",
              "    <tr>\n",
              "      <th>2</th>\n",
              "      <td>Nagoya</td>\n",
              "      <td>27.3</td>\n",
              "      <td>NaN</td>\n",
              "    </tr>\n",
              "    <tr>\n",
              "      <th>3</th>\n",
              "      <td>Okinawa</td>\n",
              "      <td>30.9</td>\n",
              "      <td>62.0</td>\n",
              "    </tr>\n",
              "  </tbody>\n",
              "</table>\n",
              "</div>"
            ],
            "text/plain": [
              "      City  Temperature  Humidity\n",
              "0    Tokyo         25.0      44.0\n",
              "1    Osaka         28.2      42.0\n",
              "2   Nagoya         27.3       NaN\n",
              "3  Okinawa         30.9      62.0"
            ]
          },
          "metadata": {
            "tags": []
          },
          "execution_count": 16
        }
      ]
    },
    {
      "cell_type": "markdown",
      "metadata": {
        "id": "LOaz4X7xdFID",
        "colab_type": "text"
      },
      "source": [
        "iterrows メソッドは、各行の index とその行を表わす Series オブジェクトを順に返します。"
      ]
    },
    {
      "cell_type": "code",
      "metadata": {
        "scrolled": false,
        "id": "9tO6N_dpdFID",
        "colab_type": "code",
        "outputId": "41bbf7ac-0d22-44a8-c64d-1626946d654b",
        "colab": {
          "base_uri": "https://localhost:8080/",
          "height": 425
        }
      },
      "source": [
        "for index, line in cities.iterrows():\n",
        "    print ('Index:', index)\n",
        "    print (line, '\\n')"
      ],
      "execution_count": 17,
      "outputs": [
        {
          "output_type": "stream",
          "text": [
            "Index: 0\n",
            "City           Tokyo\n",
            "Temperature       25\n",
            "Humidity          44\n",
            "Name: 0, dtype: object \n",
            "\n",
            "Index: 1\n",
            "City           Osaka\n",
            "Temperature     28.2\n",
            "Humidity          42\n",
            "Name: 1, dtype: object \n",
            "\n",
            "Index: 2\n",
            "City           Nagoya\n",
            "Temperature      27.3\n",
            "Humidity          NaN\n",
            "Name: 2, dtype: object \n",
            "\n",
            "Index: 3\n",
            "City           Okinawa\n",
            "Temperature       30.9\n",
            "Humidity            62\n",
            "Name: 3, dtype: object \n",
            "\n"
          ],
          "name": "stdout"
        }
      ]
    },
    {
      "cell_type": "markdown",
      "metadata": {
        "id": "m4iJ-vKCdFIH",
        "colab_type": "text"
      },
      "source": [
        "### データフレームを変更する例です。"
      ]
    },
    {
      "cell_type": "markdown",
      "metadata": {
        "id": "E0WlVw1EdFII",
        "colab_type": "text"
      },
      "source": [
        "DataFrame から抽出したオブジェクトを変更する際は、明示的にコピーを作成します。"
      ]
    },
    {
      "cell_type": "code",
      "metadata": {
        "id": "a6GeFl98dFIJ",
        "colab_type": "code",
        "outputId": "4b09075c-57ed-4542-fb1a-9bbe427cf9fb",
        "colab": {
          "base_uri": "https://localhost:8080/",
          "height": 102
        }
      },
      "source": [
        "humidity = cities['Humidity'].copy()\n",
        "humidity[2] = 50\n",
        "humidity"
      ],
      "execution_count": 18,
      "outputs": [
        {
          "output_type": "execute_result",
          "data": {
            "text/plain": [
              "0    44.0\n",
              "1    42.0\n",
              "2    50.0\n",
              "3    62.0\n",
              "Name: Humidity, dtype: float64"
            ]
          },
          "metadata": {
            "tags": []
          },
          "execution_count": 18
        }
      ]
    },
    {
      "cell_type": "markdown",
      "metadata": {
        "id": "J7Q23qW_dFIL",
        "colab_type": "text"
      },
      "source": [
        "コピーを変更しても元の DataFrame が変更されることはありません。"
      ]
    },
    {
      "cell_type": "code",
      "metadata": {
        "scrolled": true,
        "id": "AAfhgzjTdFIM",
        "colab_type": "code",
        "outputId": "1d0a8887-48b5-4c7f-e193-760168c226fd",
        "colab": {
          "base_uri": "https://localhost:8080/",
          "height": 173
        }
      },
      "source": [
        "cities"
      ],
      "execution_count": 19,
      "outputs": [
        {
          "output_type": "execute_result",
          "data": {
            "text/html": [
              "<div>\n",
              "<style scoped>\n",
              "    .dataframe tbody tr th:only-of-type {\n",
              "        vertical-align: middle;\n",
              "    }\n",
              "\n",
              "    .dataframe tbody tr th {\n",
              "        vertical-align: top;\n",
              "    }\n",
              "\n",
              "    .dataframe thead th {\n",
              "        text-align: right;\n",
              "    }\n",
              "</style>\n",
              "<table border=\"1\" class=\"dataframe\">\n",
              "  <thead>\n",
              "    <tr style=\"text-align: right;\">\n",
              "      <th></th>\n",
              "      <th>City</th>\n",
              "      <th>Temperature</th>\n",
              "      <th>Humidity</th>\n",
              "    </tr>\n",
              "  </thead>\n",
              "  <tbody>\n",
              "    <tr>\n",
              "      <th>0</th>\n",
              "      <td>Tokyo</td>\n",
              "      <td>25.0</td>\n",
              "      <td>44.0</td>\n",
              "    </tr>\n",
              "    <tr>\n",
              "      <th>1</th>\n",
              "      <td>Osaka</td>\n",
              "      <td>28.2</td>\n",
              "      <td>42.0</td>\n",
              "    </tr>\n",
              "    <tr>\n",
              "      <th>2</th>\n",
              "      <td>Nagoya</td>\n",
              "      <td>27.3</td>\n",
              "      <td>NaN</td>\n",
              "    </tr>\n",
              "    <tr>\n",
              "      <th>3</th>\n",
              "      <td>Okinawa</td>\n",
              "      <td>30.9</td>\n",
              "      <td>62.0</td>\n",
              "    </tr>\n",
              "  </tbody>\n",
              "</table>\n",
              "</div>"
            ],
            "text/plain": [
              "      City  Temperature  Humidity\n",
              "0    Tokyo         25.0      44.0\n",
              "1    Osaka         28.2      42.0\n",
              "2   Nagoya         27.3       NaN\n",
              "3  Okinawa         30.9      62.0"
            ]
          },
          "metadata": {
            "tags": []
          },
          "execution_count": 19
        }
      ]
    },
    {
      "cell_type": "markdown",
      "metadata": {
        "id": "cpE3xKfTdFIP",
        "colab_type": "text"
      },
      "source": [
        "DataFrame の特定要素を変更する際は、loc メソッドで要素を指定します。"
      ]
    },
    {
      "cell_type": "code",
      "metadata": {
        "scrolled": true,
        "id": "N0TL9N9kdFIP",
        "colab_type": "code",
        "outputId": "d2025256-14ac-46e4-a446-b7f49f93cf2d",
        "colab": {
          "base_uri": "https://localhost:8080/",
          "height": 173
        }
      },
      "source": [
        "cities.loc[2, 'Humidity'] = 50\n",
        "cities"
      ],
      "execution_count": 20,
      "outputs": [
        {
          "output_type": "execute_result",
          "data": {
            "text/html": [
              "<div>\n",
              "<style scoped>\n",
              "    .dataframe tbody tr th:only-of-type {\n",
              "        vertical-align: middle;\n",
              "    }\n",
              "\n",
              "    .dataframe tbody tr th {\n",
              "        vertical-align: top;\n",
              "    }\n",
              "\n",
              "    .dataframe thead th {\n",
              "        text-align: right;\n",
              "    }\n",
              "</style>\n",
              "<table border=\"1\" class=\"dataframe\">\n",
              "  <thead>\n",
              "    <tr style=\"text-align: right;\">\n",
              "      <th></th>\n",
              "      <th>City</th>\n",
              "      <th>Temperature</th>\n",
              "      <th>Humidity</th>\n",
              "    </tr>\n",
              "  </thead>\n",
              "  <tbody>\n",
              "    <tr>\n",
              "      <th>0</th>\n",
              "      <td>Tokyo</td>\n",
              "      <td>25.0</td>\n",
              "      <td>44.0</td>\n",
              "    </tr>\n",
              "    <tr>\n",
              "      <th>1</th>\n",
              "      <td>Osaka</td>\n",
              "      <td>28.2</td>\n",
              "      <td>42.0</td>\n",
              "    </tr>\n",
              "    <tr>\n",
              "      <th>2</th>\n",
              "      <td>Nagoya</td>\n",
              "      <td>27.3</td>\n",
              "      <td>50.0</td>\n",
              "    </tr>\n",
              "    <tr>\n",
              "      <th>3</th>\n",
              "      <td>Okinawa</td>\n",
              "      <td>30.9</td>\n",
              "      <td>62.0</td>\n",
              "    </tr>\n",
              "  </tbody>\n",
              "</table>\n",
              "</div>"
            ],
            "text/plain": [
              "      City  Temperature  Humidity\n",
              "0    Tokyo         25.0      44.0\n",
              "1    Osaka         28.2      42.0\n",
              "2   Nagoya         27.3      50.0\n",
              "3  Okinawa         30.9      62.0"
            ]
          },
          "metadata": {
            "tags": []
          },
          "execution_count": 20
        }
      ]
    },
    {
      "cell_type": "markdown",
      "metadata": {
        "id": "MjhudiFSdFIS",
        "colab_type": "text"
      },
      "source": [
        "30より大きい値の Temperature を30に揃える処理の例です。"
      ]
    },
    {
      "cell_type": "code",
      "metadata": {
        "scrolled": false,
        "id": "7vfsy4BzdFIT",
        "colab_type": "code",
        "outputId": "1ca1e07f-5f99-466a-c6b3-4fde7d312d64",
        "colab": {
          "base_uri": "https://localhost:8080/",
          "height": 173
        }
      },
      "source": [
        "for index, line in cities.iterrows():\n",
        "    if line['Temperature'] > 30:\n",
        "        cities.loc[index, 'Temperature'] = 30\n",
        "cities"
      ],
      "execution_count": 21,
      "outputs": [
        {
          "output_type": "execute_result",
          "data": {
            "text/html": [
              "<div>\n",
              "<style scoped>\n",
              "    .dataframe tbody tr th:only-of-type {\n",
              "        vertical-align: middle;\n",
              "    }\n",
              "\n",
              "    .dataframe tbody tr th {\n",
              "        vertical-align: top;\n",
              "    }\n",
              "\n",
              "    .dataframe thead th {\n",
              "        text-align: right;\n",
              "    }\n",
              "</style>\n",
              "<table border=\"1\" class=\"dataframe\">\n",
              "  <thead>\n",
              "    <tr style=\"text-align: right;\">\n",
              "      <th></th>\n",
              "      <th>City</th>\n",
              "      <th>Temperature</th>\n",
              "      <th>Humidity</th>\n",
              "    </tr>\n",
              "  </thead>\n",
              "  <tbody>\n",
              "    <tr>\n",
              "      <th>0</th>\n",
              "      <td>Tokyo</td>\n",
              "      <td>25.0</td>\n",
              "      <td>44.0</td>\n",
              "    </tr>\n",
              "    <tr>\n",
              "      <th>1</th>\n",
              "      <td>Osaka</td>\n",
              "      <td>28.2</td>\n",
              "      <td>42.0</td>\n",
              "    </tr>\n",
              "    <tr>\n",
              "      <th>2</th>\n",
              "      <td>Nagoya</td>\n",
              "      <td>27.3</td>\n",
              "      <td>50.0</td>\n",
              "    </tr>\n",
              "    <tr>\n",
              "      <th>3</th>\n",
              "      <td>Okinawa</td>\n",
              "      <td>30.0</td>\n",
              "      <td>62.0</td>\n",
              "    </tr>\n",
              "  </tbody>\n",
              "</table>\n",
              "</div>"
            ],
            "text/plain": [
              "      City  Temperature  Humidity\n",
              "0    Tokyo         25.0      44.0\n",
              "1    Osaka         28.2      42.0\n",
              "2   Nagoya         27.3      50.0\n",
              "3  Okinawa         30.0      62.0"
            ]
          },
          "metadata": {
            "tags": []
          },
          "execution_count": 21
        }
      ]
    },
    {
      "cell_type": "markdown",
      "metadata": {
        "id": "t3HtL0kDdFIW",
        "colab_type": "text"
      },
      "source": [
        "条件による行の指定と組み合わせることもできます。"
      ]
    },
    {
      "cell_type": "code",
      "metadata": {
        "scrolled": true,
        "id": "fknj1OUPdFIW",
        "colab_type": "code",
        "outputId": "6dec62fd-d5d3-400b-d0d2-fff606717a30",
        "colab": {
          "base_uri": "https://localhost:8080/",
          "height": 173
        }
      },
      "source": [
        "cities.loc[(cities['Temperature']>27)&(cities['Temperature']<29), 'Temperature'] = 28\n",
        "cities"
      ],
      "execution_count": 22,
      "outputs": [
        {
          "output_type": "execute_result",
          "data": {
            "text/html": [
              "<div>\n",
              "<style scoped>\n",
              "    .dataframe tbody tr th:only-of-type {\n",
              "        vertical-align: middle;\n",
              "    }\n",
              "\n",
              "    .dataframe tbody tr th {\n",
              "        vertical-align: top;\n",
              "    }\n",
              "\n",
              "    .dataframe thead th {\n",
              "        text-align: right;\n",
              "    }\n",
              "</style>\n",
              "<table border=\"1\" class=\"dataframe\">\n",
              "  <thead>\n",
              "    <tr style=\"text-align: right;\">\n",
              "      <th></th>\n",
              "      <th>City</th>\n",
              "      <th>Temperature</th>\n",
              "      <th>Humidity</th>\n",
              "    </tr>\n",
              "  </thead>\n",
              "  <tbody>\n",
              "    <tr>\n",
              "      <th>0</th>\n",
              "      <td>Tokyo</td>\n",
              "      <td>25.0</td>\n",
              "      <td>44.0</td>\n",
              "    </tr>\n",
              "    <tr>\n",
              "      <th>1</th>\n",
              "      <td>Osaka</td>\n",
              "      <td>28.0</td>\n",
              "      <td>42.0</td>\n",
              "    </tr>\n",
              "    <tr>\n",
              "      <th>2</th>\n",
              "      <td>Nagoya</td>\n",
              "      <td>28.0</td>\n",
              "      <td>50.0</td>\n",
              "    </tr>\n",
              "    <tr>\n",
              "      <th>3</th>\n",
              "      <td>Okinawa</td>\n",
              "      <td>30.0</td>\n",
              "      <td>62.0</td>\n",
              "    </tr>\n",
              "  </tbody>\n",
              "</table>\n",
              "</div>"
            ],
            "text/plain": [
              "      City  Temperature  Humidity\n",
              "0    Tokyo         25.0      44.0\n",
              "1    Osaka         28.0      42.0\n",
              "2   Nagoya         28.0      50.0\n",
              "3  Okinawa         30.0      62.0"
            ]
          },
          "metadata": {
            "tags": []
          },
          "execution_count": 22
        }
      ]
    },
    {
      "cell_type": "markdown",
      "metadata": {
        "id": "MyRnDgb_dFIZ",
        "colab_type": "text"
      },
      "source": [
        "### dropna メソッドで欠損値を含む行を削除する例です。"
      ]
    },
    {
      "cell_type": "code",
      "metadata": {
        "id": "xhh5Z8lldFIa",
        "colab_type": "code",
        "outputId": "2198f5d0-b42a-435f-a320-30045aa56145",
        "colab": {
          "base_uri": "https://localhost:8080/",
          "height": 173
        }
      },
      "source": [
        "cities.loc[2, 'Humidity'] = np.nan\n",
        "cities"
      ],
      "execution_count": 23,
      "outputs": [
        {
          "output_type": "execute_result",
          "data": {
            "text/html": [
              "<div>\n",
              "<style scoped>\n",
              "    .dataframe tbody tr th:only-of-type {\n",
              "        vertical-align: middle;\n",
              "    }\n",
              "\n",
              "    .dataframe tbody tr th {\n",
              "        vertical-align: top;\n",
              "    }\n",
              "\n",
              "    .dataframe thead th {\n",
              "        text-align: right;\n",
              "    }\n",
              "</style>\n",
              "<table border=\"1\" class=\"dataframe\">\n",
              "  <thead>\n",
              "    <tr style=\"text-align: right;\">\n",
              "      <th></th>\n",
              "      <th>City</th>\n",
              "      <th>Temperature</th>\n",
              "      <th>Humidity</th>\n",
              "    </tr>\n",
              "  </thead>\n",
              "  <tbody>\n",
              "    <tr>\n",
              "      <th>0</th>\n",
              "      <td>Tokyo</td>\n",
              "      <td>25.0</td>\n",
              "      <td>44.0</td>\n",
              "    </tr>\n",
              "    <tr>\n",
              "      <th>1</th>\n",
              "      <td>Osaka</td>\n",
              "      <td>28.0</td>\n",
              "      <td>42.0</td>\n",
              "    </tr>\n",
              "    <tr>\n",
              "      <th>2</th>\n",
              "      <td>Nagoya</td>\n",
              "      <td>28.0</td>\n",
              "      <td>NaN</td>\n",
              "    </tr>\n",
              "    <tr>\n",
              "      <th>3</th>\n",
              "      <td>Okinawa</td>\n",
              "      <td>30.0</td>\n",
              "      <td>62.0</td>\n",
              "    </tr>\n",
              "  </tbody>\n",
              "</table>\n",
              "</div>"
            ],
            "text/plain": [
              "      City  Temperature  Humidity\n",
              "0    Tokyo         25.0      44.0\n",
              "1    Osaka         28.0      42.0\n",
              "2   Nagoya         28.0       NaN\n",
              "3  Okinawa         30.0      62.0"
            ]
          },
          "metadata": {
            "tags": []
          },
          "execution_count": 23
        }
      ]
    },
    {
      "cell_type": "code",
      "metadata": {
        "id": "VSJBNpXidFIc",
        "colab_type": "code",
        "outputId": "6974c3e3-946a-4260-ec9e-91a1760aeeaa",
        "colab": {
          "base_uri": "https://localhost:8080/",
          "height": 142
        }
      },
      "source": [
        "cities = cities.dropna()\n",
        "cities"
      ],
      "execution_count": 24,
      "outputs": [
        {
          "output_type": "execute_result",
          "data": {
            "text/html": [
              "<div>\n",
              "<style scoped>\n",
              "    .dataframe tbody tr th:only-of-type {\n",
              "        vertical-align: middle;\n",
              "    }\n",
              "\n",
              "    .dataframe tbody tr th {\n",
              "        vertical-align: top;\n",
              "    }\n",
              "\n",
              "    .dataframe thead th {\n",
              "        text-align: right;\n",
              "    }\n",
              "</style>\n",
              "<table border=\"1\" class=\"dataframe\">\n",
              "  <thead>\n",
              "    <tr style=\"text-align: right;\">\n",
              "      <th></th>\n",
              "      <th>City</th>\n",
              "      <th>Temperature</th>\n",
              "      <th>Humidity</th>\n",
              "    </tr>\n",
              "  </thead>\n",
              "  <tbody>\n",
              "    <tr>\n",
              "      <th>0</th>\n",
              "      <td>Tokyo</td>\n",
              "      <td>25.0</td>\n",
              "      <td>44.0</td>\n",
              "    </tr>\n",
              "    <tr>\n",
              "      <th>1</th>\n",
              "      <td>Osaka</td>\n",
              "      <td>28.0</td>\n",
              "      <td>42.0</td>\n",
              "    </tr>\n",
              "    <tr>\n",
              "      <th>3</th>\n",
              "      <td>Okinawa</td>\n",
              "      <td>30.0</td>\n",
              "      <td>62.0</td>\n",
              "    </tr>\n",
              "  </tbody>\n",
              "</table>\n",
              "</div>"
            ],
            "text/plain": [
              "      City  Temperature  Humidity\n",
              "0    Tokyo         25.0      44.0\n",
              "1    Osaka         28.0      42.0\n",
              "3  Okinawa         30.0      62.0"
            ]
          },
          "metadata": {
            "tags": []
          },
          "execution_count": 24
        }
      ]
    },
    {
      "cell_type": "markdown",
      "metadata": {
        "id": "FY-6OJUCdFIe",
        "colab_type": "text"
      },
      "source": [
        "## 練習問題"
      ]
    },
    {
      "cell_type": "markdown",
      "metadata": {
        "id": "u8InxNaXdFIf",
        "colab_type": "text"
      },
      "source": [
        "(1) 次の関数 `create_dataset()` を用いて、`num=10` 個のデータからなるデータフレーム `data` を作成します。その後、`iterrows` メソッドを利用して、データポイント $(x,\\,y)$ の $y$ 値と関数 $\\sin(2\\pi x)$ の平方根平均二乗誤差\n",
        "$\\sqrt{\\frac{\\sum\\{\\sin(2\\pi x) - y\\}^2}{\\rm num}}$\n",
        "を計算してください。\n",
        "\n",
        "ヒント：この例では、平方根平均二乗誤差は約0.3になります。"
      ]
    },
    {
      "cell_type": "code",
      "metadata": {
        "id": "6JSjT24FdFIg",
        "colab_type": "code",
        "colab": {}
      },
      "source": [
        "from numpy.random import normal\n",
        "\n",
        "def create_dataset(num):\n",
        "    data_x = np.linspace(0, 1, num)\n",
        "    data_y = np.sin(2*np.pi*data_x) + normal(loc=0, scale=0.3, size=num)\n",
        "    return DataFrame({'x': data_x, 'y': data_y})"
      ],
      "execution_count": 0,
      "outputs": []
    },
    {
      "cell_type": "markdown",
      "metadata": {
        "id": "i9Ua3wx1dFIh",
        "colab_type": "text"
      },
      "source": [
        "(2) (1)の DataFrame から列 `'x'` だけを取り出した Series オブジェクトを変数 x に格納してください。`name` プロパティは、`'x'` とします。\n",
        "\n",
        "さらに、$x^2$ （各要素を2乗した値）を要素とする Series オブジェクトを作成して、変数 `x2` に格納してください。`name` プロパティは、`'x2'` とします。\n",
        "\n",
        "同様に、$x^3$、$x^4$ を要素とする Series オブジェクトを変数 `x3, x4` に格納します。"
      ]
    },
    {
      "cell_type": "markdown",
      "metadata": {
        "id": "OiceIsKZdFIi",
        "colab_type": "text"
      },
      "source": [
        "(3) (2)で作成した `x, x2, x3, x4` を結合して、`x, x2, x3, x4` を列に持った DataFrame `dataset` を作成してください。\n",
        "\n",
        "ヒント：結果は、次のような DataFrame になります。\n",
        "\n",
        "![figure01.png](https://github.com/enakai00/numpy-pandas-tutorial/raw/master/Solutions/figure01.png)"
      ]
    }
  ]
}