{
  "nbformat": 4,
  "nbformat_minor": 0,
  "metadata": {
    "colab": {
      "name": "07-pandas DataFrame-03.ipynb",
      "version": "0.3.2",
      "provenance": [],
      "collapsed_sections": []
    },
    "kernelspec": {
      "name": "python3",
      "display_name": "Python 3"
    }
  },
  "cells": [
    {
      "cell_type": "markdown",
      "metadata": {
        "id": "iTDrP2G2mA3q",
        "colab_type": "text"
      },
      "source": [
        "# その他のデータフレーム操作"
      ]
    },
    {
      "cell_type": "code",
      "metadata": {
        "id": "CRNhLi6KmA3r",
        "colab_type": "code",
        "colab": {}
      },
      "source": [
        "import numpy as np\n",
        "import matplotlib.pyplot as plt\n",
        "import pandas as pd\n",
        "from pandas import Series, DataFrame"
      ],
      "execution_count": 0,
      "outputs": []
    },
    {
      "cell_type": "markdown",
      "metadata": {
        "id": "KbRz6i9BmA3u",
        "colab_type": "text"
      },
      "source": [
        "### DataFrame を array に変換する例です。"
      ]
    },
    {
      "cell_type": "code",
      "metadata": {
        "scrolled": true,
        "id": "YOFkW3fWmA3v",
        "colab_type": "code",
        "outputId": "723666b1-a3c5-492f-93f9-7fa7751f4894",
        "colab": {
          "base_uri": "https://localhost:8080/",
          "height": 173
        }
      },
      "source": [
        "data = {'City': ['Tokyo', 'Osaka', 'Nagoya', 'Okinawa'],\n",
        "                 'Temperature': [25.0, 28.2, 27.3, 30.9],\n",
        "                 'Humidity': [44, 42, np.nan, 62]}\n",
        "cities = DataFrame(data)\n",
        "cities"
      ],
      "execution_count": 2,
      "outputs": [
        {
          "output_type": "execute_result",
          "data": {
            "text/html": [
              "<div>\n",
              "<style scoped>\n",
              "    .dataframe tbody tr th:only-of-type {\n",
              "        vertical-align: middle;\n",
              "    }\n",
              "\n",
              "    .dataframe tbody tr th {\n",
              "        vertical-align: top;\n",
              "    }\n",
              "\n",
              "    .dataframe thead th {\n",
              "        text-align: right;\n",
              "    }\n",
              "</style>\n",
              "<table border=\"1\" class=\"dataframe\">\n",
              "  <thead>\n",
              "    <tr style=\"text-align: right;\">\n",
              "      <th></th>\n",
              "      <th>City</th>\n",
              "      <th>Temperature</th>\n",
              "      <th>Humidity</th>\n",
              "    </tr>\n",
              "  </thead>\n",
              "  <tbody>\n",
              "    <tr>\n",
              "      <th>0</th>\n",
              "      <td>Tokyo</td>\n",
              "      <td>25.0</td>\n",
              "      <td>44.0</td>\n",
              "    </tr>\n",
              "    <tr>\n",
              "      <th>1</th>\n",
              "      <td>Osaka</td>\n",
              "      <td>28.2</td>\n",
              "      <td>42.0</td>\n",
              "    </tr>\n",
              "    <tr>\n",
              "      <th>2</th>\n",
              "      <td>Nagoya</td>\n",
              "      <td>27.3</td>\n",
              "      <td>NaN</td>\n",
              "    </tr>\n",
              "    <tr>\n",
              "      <th>3</th>\n",
              "      <td>Okinawa</td>\n",
              "      <td>30.9</td>\n",
              "      <td>62.0</td>\n",
              "    </tr>\n",
              "  </tbody>\n",
              "</table>\n",
              "</div>"
            ],
            "text/plain": [
              "      City  Temperature  Humidity\n",
              "0    Tokyo         25.0      44.0\n",
              "1    Osaka         28.2      42.0\n",
              "2   Nagoya         27.3       NaN\n",
              "3  Okinawa         30.9      62.0"
            ]
          },
          "metadata": {
            "tags": []
          },
          "execution_count": 2
        }
      ]
    },
    {
      "cell_type": "code",
      "metadata": {
        "scrolled": true,
        "id": "AL0sivP3mA30",
        "colab_type": "code",
        "outputId": "0153f9a9-733a-4c23-e88b-f26ca8787876",
        "colab": {
          "base_uri": "https://localhost:8080/",
          "height": 85
        }
      },
      "source": [
        "cities.values"
      ],
      "execution_count": 3,
      "outputs": [
        {
          "output_type": "execute_result",
          "data": {
            "text/plain": [
              "array([['Tokyo', 25.0, 44.0],\n",
              "       ['Osaka', 28.2, 42.0],\n",
              "       ['Nagoya', 27.3, nan],\n",
              "       ['Okinawa', 30.9, 62.0]], dtype=object)"
            ]
          },
          "metadata": {
            "tags": []
          },
          "execution_count": 3
        }
      ]
    },
    {
      "cell_type": "markdown",
      "metadata": {
        "id": "42AL_6UfmA34",
        "colab_type": "text"
      },
      "source": [
        "### Series を array に変換する例です。"
      ]
    },
    {
      "cell_type": "code",
      "metadata": {
        "scrolled": true,
        "id": "mp4sIbOjmA34",
        "colab_type": "code",
        "outputId": "a59d9338-d9ad-4e8e-9630-ceb7678a3655",
        "colab": {
          "base_uri": "https://localhost:8080/",
          "height": 34
        }
      },
      "source": [
        "cities['City'].values"
      ],
      "execution_count": 4,
      "outputs": [
        {
          "output_type": "execute_result",
          "data": {
            "text/plain": [
              "array(['Tokyo', 'Osaka', 'Nagoya', 'Okinawa'], dtype=object)"
            ]
          },
          "metadata": {
            "tags": []
          },
          "execution_count": 4
        }
      ]
    },
    {
      "cell_type": "markdown",
      "metadata": {
        "id": "dC54HgR3mA39",
        "colab_type": "text"
      },
      "source": [
        "### トランプのカードを集めた DataFrame を定義して、カードのシャッフルを行う例です。"
      ]
    },
    {
      "cell_type": "code",
      "metadata": {
        "scrolled": true,
        "id": "NyQf7rAQmA39",
        "colab_type": "code",
        "outputId": "3f03e24a-f6c7-4067-c72d-1e0cd59ff5d8",
        "colab": {
          "base_uri": "https://localhost:8080/",
          "height": 204
        }
      },
      "source": [
        "face = ['king', 'queen', 'jack', 'ten', 'nine', 'eight',\n",
        "        'seven', 'six', 'five', 'four', 'three', 'two', 'ace']\n",
        "\n",
        "suit = ['spades', 'clubs', 'diamonds', 'hearts']\n",
        "\n",
        "value = range(13, 0, -1)\n",
        "\n",
        "deck = DataFrame({'face': np.tile(face, 4),\n",
        "                  'suit': np.repeat(suit, 13),\n",
        "                  'value': np.tile(value, 4)})\n",
        "\n",
        "deck.head()"
      ],
      "execution_count": 5,
      "outputs": [
        {
          "output_type": "execute_result",
          "data": {
            "text/html": [
              "<div>\n",
              "<style scoped>\n",
              "    .dataframe tbody tr th:only-of-type {\n",
              "        vertical-align: middle;\n",
              "    }\n",
              "\n",
              "    .dataframe tbody tr th {\n",
              "        vertical-align: top;\n",
              "    }\n",
              "\n",
              "    .dataframe thead th {\n",
              "        text-align: right;\n",
              "    }\n",
              "</style>\n",
              "<table border=\"1\" class=\"dataframe\">\n",
              "  <thead>\n",
              "    <tr style=\"text-align: right;\">\n",
              "      <th></th>\n",
              "      <th>face</th>\n",
              "      <th>suit</th>\n",
              "      <th>value</th>\n",
              "    </tr>\n",
              "  </thead>\n",
              "  <tbody>\n",
              "    <tr>\n",
              "      <th>0</th>\n",
              "      <td>king</td>\n",
              "      <td>spades</td>\n",
              "      <td>13</td>\n",
              "    </tr>\n",
              "    <tr>\n",
              "      <th>1</th>\n",
              "      <td>queen</td>\n",
              "      <td>spades</td>\n",
              "      <td>12</td>\n",
              "    </tr>\n",
              "    <tr>\n",
              "      <th>2</th>\n",
              "      <td>jack</td>\n",
              "      <td>spades</td>\n",
              "      <td>11</td>\n",
              "    </tr>\n",
              "    <tr>\n",
              "      <th>3</th>\n",
              "      <td>ten</td>\n",
              "      <td>spades</td>\n",
              "      <td>10</td>\n",
              "    </tr>\n",
              "    <tr>\n",
              "      <th>4</th>\n",
              "      <td>nine</td>\n",
              "      <td>spades</td>\n",
              "      <td>9</td>\n",
              "    </tr>\n",
              "  </tbody>\n",
              "</table>\n",
              "</div>"
            ],
            "text/plain": [
              "    face    suit  value\n",
              "0   king  spades     13\n",
              "1  queen  spades     12\n",
              "2   jack  spades     11\n",
              "3    ten  spades     10\n",
              "4   nine  spades      9"
            ]
          },
          "metadata": {
            "tags": []
          },
          "execution_count": 5
        }
      ]
    },
    {
      "cell_type": "markdown",
      "metadata": {
        "id": "9kWqokIymA4B",
        "colab_type": "text"
      },
      "source": [
        "permutation 関数で、index の順番をランダムにシャッフルします。"
      ]
    },
    {
      "cell_type": "code",
      "metadata": {
        "scrolled": false,
        "id": "gcLGb2_xmA4C",
        "colab_type": "code",
        "outputId": "01d0e2f6-54a6-401a-a7da-c7c5283c571c",
        "colab": {
          "base_uri": "https://localhost:8080/",
          "height": 85
        }
      },
      "source": [
        "np.random.permutation(deck.index)"
      ],
      "execution_count": 6,
      "outputs": [
        {
          "output_type": "execute_result",
          "data": {
            "text/plain": [
              "array([ 4, 34, 47, 21,  6, 48, 28, 49, 33, 12, 40, 36, 20, 39,  2, 11,  9,\n",
              "       14, 10, 35,  3, 17, 50, 43, 26, 44, 30, 37, 45,  0, 41, 15, 16, 38,\n",
              "       46, 27,  1, 13, 25, 29, 32,  7, 51,  8, 18, 22, 23, 19,  5, 31, 24,\n",
              "       42])"
            ]
          },
          "metadata": {
            "tags": []
          },
          "execution_count": 6
        }
      ]
    },
    {
      "cell_type": "markdown",
      "metadata": {
        "id": "NaIg8MrFmA4H",
        "colab_type": "text"
      },
      "source": [
        "ランダムにシャッフルした index を用いて行を並べ替えます。"
      ]
    },
    {
      "cell_type": "code",
      "metadata": {
        "scrolled": true,
        "id": "3qaxTnn9mA4J",
        "colab_type": "code",
        "outputId": "1dddaa9b-5f41-406b-bb1a-8eebcaf55df5",
        "colab": {
          "base_uri": "https://localhost:8080/",
          "height": 204
        }
      },
      "source": [
        "deck = deck.reindex(np.random.permutation(deck.index))\n",
        "deck.head()"
      ],
      "execution_count": 7,
      "outputs": [
        {
          "output_type": "execute_result",
          "data": {
            "text/html": [
              "<div>\n",
              "<style scoped>\n",
              "    .dataframe tbody tr th:only-of-type {\n",
              "        vertical-align: middle;\n",
              "    }\n",
              "\n",
              "    .dataframe tbody tr th {\n",
              "        vertical-align: top;\n",
              "    }\n",
              "\n",
              "    .dataframe thead th {\n",
              "        text-align: right;\n",
              "    }\n",
              "</style>\n",
              "<table border=\"1\" class=\"dataframe\">\n",
              "  <thead>\n",
              "    <tr style=\"text-align: right;\">\n",
              "      <th></th>\n",
              "      <th>face</th>\n",
              "      <th>suit</th>\n",
              "      <th>value</th>\n",
              "    </tr>\n",
              "  </thead>\n",
              "  <tbody>\n",
              "    <tr>\n",
              "      <th>15</th>\n",
              "      <td>jack</td>\n",
              "      <td>clubs</td>\n",
              "      <td>11</td>\n",
              "    </tr>\n",
              "    <tr>\n",
              "      <th>23</th>\n",
              "      <td>three</td>\n",
              "      <td>clubs</td>\n",
              "      <td>3</td>\n",
              "    </tr>\n",
              "    <tr>\n",
              "      <th>26</th>\n",
              "      <td>king</td>\n",
              "      <td>diamonds</td>\n",
              "      <td>13</td>\n",
              "    </tr>\n",
              "    <tr>\n",
              "      <th>4</th>\n",
              "      <td>nine</td>\n",
              "      <td>spades</td>\n",
              "      <td>9</td>\n",
              "    </tr>\n",
              "    <tr>\n",
              "      <th>44</th>\n",
              "      <td>eight</td>\n",
              "      <td>hearts</td>\n",
              "      <td>8</td>\n",
              "    </tr>\n",
              "  </tbody>\n",
              "</table>\n",
              "</div>"
            ],
            "text/plain": [
              "     face      suit  value\n",
              "15   jack     clubs     11\n",
              "23  three     clubs      3\n",
              "26   king  diamonds     13\n",
              "4    nine    spades      9\n",
              "44  eight    hearts      8"
            ]
          },
          "metadata": {
            "tags": []
          },
          "execution_count": 7
        }
      ]
    },
    {
      "cell_type": "markdown",
      "metadata": {
        "id": "b-cFPRDWmA4P",
        "colab_type": "text"
      },
      "source": [
        "reset_index メソッドで index に通し番号を付け直します。"
      ]
    },
    {
      "cell_type": "code",
      "metadata": {
        "scrolled": true,
        "id": "dtVQpYKBmA4Q",
        "colab_type": "code",
        "outputId": "0b7f7046-6a0f-4ab9-af07-099efd89ad73",
        "colab": {
          "base_uri": "https://localhost:8080/",
          "height": 204
        }
      },
      "source": [
        "deck = deck.reset_index(drop=True)\n",
        "deck.head()"
      ],
      "execution_count": 8,
      "outputs": [
        {
          "output_type": "execute_result",
          "data": {
            "text/html": [
              "<div>\n",
              "<style scoped>\n",
              "    .dataframe tbody tr th:only-of-type {\n",
              "        vertical-align: middle;\n",
              "    }\n",
              "\n",
              "    .dataframe tbody tr th {\n",
              "        vertical-align: top;\n",
              "    }\n",
              "\n",
              "    .dataframe thead th {\n",
              "        text-align: right;\n",
              "    }\n",
              "</style>\n",
              "<table border=\"1\" class=\"dataframe\">\n",
              "  <thead>\n",
              "    <tr style=\"text-align: right;\">\n",
              "      <th></th>\n",
              "      <th>face</th>\n",
              "      <th>suit</th>\n",
              "      <th>value</th>\n",
              "    </tr>\n",
              "  </thead>\n",
              "  <tbody>\n",
              "    <tr>\n",
              "      <th>0</th>\n",
              "      <td>jack</td>\n",
              "      <td>clubs</td>\n",
              "      <td>11</td>\n",
              "    </tr>\n",
              "    <tr>\n",
              "      <th>1</th>\n",
              "      <td>three</td>\n",
              "      <td>clubs</td>\n",
              "      <td>3</td>\n",
              "    </tr>\n",
              "    <tr>\n",
              "      <th>2</th>\n",
              "      <td>king</td>\n",
              "      <td>diamonds</td>\n",
              "      <td>13</td>\n",
              "    </tr>\n",
              "    <tr>\n",
              "      <th>3</th>\n",
              "      <td>nine</td>\n",
              "      <td>spades</td>\n",
              "      <td>9</td>\n",
              "    </tr>\n",
              "    <tr>\n",
              "      <th>4</th>\n",
              "      <td>eight</td>\n",
              "      <td>hearts</td>\n",
              "      <td>8</td>\n",
              "    </tr>\n",
              "  </tbody>\n",
              "</table>\n",
              "</div>"
            ],
            "text/plain": [
              "    face      suit  value\n",
              "0   jack     clubs     11\n",
              "1  three     clubs      3\n",
              "2   king  diamonds     13\n",
              "3   nine    spades      9\n",
              "4  eight    hearts      8"
            ]
          },
          "metadata": {
            "tags": []
          },
          "execution_count": 8
        }
      ]
    },
    {
      "cell_type": "markdown",
      "metadata": {
        "id": "Ic621ZozmA4T",
        "colab_type": "text"
      },
      "source": [
        "### DataFrame のグラフ描画機能を使用する例です。"
      ]
    },
    {
      "cell_type": "markdown",
      "metadata": {
        "id": "OyCoOifDmA4T",
        "colab_type": "text"
      },
      "source": [
        "3回分のランダムウォークのデータを並べた DataFrame を作成します。"
      ]
    },
    {
      "cell_type": "code",
      "metadata": {
        "scrolled": true,
        "id": "sAdMKJZzmA4U",
        "colab_type": "code",
        "outputId": "6dd235fa-0f48-4928-ea15-30f703547094",
        "colab": {
          "base_uri": "https://localhost:8080/",
          "height": 204
        }
      },
      "source": [
        "result = DataFrame()\n",
        "for c in range(3):\n",
        "    y = 0\n",
        "    t = []\n",
        "    for delta in np.random.normal(loc=0.0, scale=1.0, size=100):\n",
        "        y += delta\n",
        "        t.append(y)\n",
        "    result['Trial %d' % c] = t\n",
        "\n",
        "result.head()"
      ],
      "execution_count": 9,
      "outputs": [
        {
          "output_type": "execute_result",
          "data": {
            "text/html": [
              "<div>\n",
              "<style scoped>\n",
              "    .dataframe tbody tr th:only-of-type {\n",
              "        vertical-align: middle;\n",
              "    }\n",
              "\n",
              "    .dataframe tbody tr th {\n",
              "        vertical-align: top;\n",
              "    }\n",
              "\n",
              "    .dataframe thead th {\n",
              "        text-align: right;\n",
              "    }\n",
              "</style>\n",
              "<table border=\"1\" class=\"dataframe\">\n",
              "  <thead>\n",
              "    <tr style=\"text-align: right;\">\n",
              "      <th></th>\n",
              "      <th>Trial 0</th>\n",
              "      <th>Trial 1</th>\n",
              "      <th>Trial 2</th>\n",
              "    </tr>\n",
              "  </thead>\n",
              "  <tbody>\n",
              "    <tr>\n",
              "      <th>0</th>\n",
              "      <td>1.573318</td>\n",
              "      <td>0.378294</td>\n",
              "      <td>0.792149</td>\n",
              "    </tr>\n",
              "    <tr>\n",
              "      <th>1</th>\n",
              "      <td>1.332979</td>\n",
              "      <td>0.449881</td>\n",
              "      <td>-0.092584</td>\n",
              "    </tr>\n",
              "    <tr>\n",
              "      <th>2</th>\n",
              "      <td>3.808831</td>\n",
              "      <td>0.541048</td>\n",
              "      <td>0.138249</td>\n",
              "    </tr>\n",
              "    <tr>\n",
              "      <th>3</th>\n",
              "      <td>4.280638</td>\n",
              "      <td>1.615452</td>\n",
              "      <td>-0.786015</td>\n",
              "    </tr>\n",
              "    <tr>\n",
              "      <th>4</th>\n",
              "      <td>4.128635</td>\n",
              "      <td>0.501012</td>\n",
              "      <td>-1.559777</td>\n",
              "    </tr>\n",
              "  </tbody>\n",
              "</table>\n",
              "</div>"
            ],
            "text/plain": [
              "    Trial 0   Trial 1   Trial 2\n",
              "0  1.573318  0.378294  0.792149\n",
              "1  1.332979  0.449881 -0.092584\n",
              "2  3.808831  0.541048  0.138249\n",
              "3  4.280638  1.615452 -0.786015\n",
              "4  4.128635  0.501012 -1.559777"
            ]
          },
          "metadata": {
            "tags": []
          },
          "execution_count": 9
        }
      ]
    },
    {
      "cell_type": "markdown",
      "metadata": {
        "id": "BC7VLpkhmA4Y",
        "colab_type": "text"
      },
      "source": [
        "DataFrame の polot メソッドでグラフを描きます。"
      ]
    },
    {
      "cell_type": "code",
      "metadata": {
        "id": "NhLS2lc7mA4Z",
        "colab_type": "code",
        "outputId": "4e2377df-b879-4a8c-e2d2-168b1213d596",
        "colab": {
          "base_uri": "https://localhost:8080/",
          "height": 298
        }
      },
      "source": [
        "result.plot(title='Random walk')"
      ],
      "execution_count": 10,
      "outputs": [
        {
          "output_type": "execute_result",
          "data": {
            "text/plain": [
              "<matplotlib.axes._subplots.AxesSubplot at 0x7fc3f99cea20>"
            ]
          },
          "metadata": {
            "tags": []
          },
          "execution_count": 10
        },
        {
          "output_type": "display_data",
          "data": {
            "image/png": "[encoded data removed]",
            "text/plain": [
              "<Figure size 432x288 with 1 Axes>"
            ]
          },
          "metadata": {
            "tags": []
          }
        }
      ]
    }
  ]
}