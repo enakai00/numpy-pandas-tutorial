{
  "nbformat": 4,
  "nbformat_minor": 0,
  "metadata": {
    "colab": {
      "name": "04-Graph.ipynb",
      "version": "0.3.2",
      "provenance": [],
      "collapsed_sections": []
    },
    "kernelspec": {
      "name": "python3",
      "display_name": "Python 3"
    }
  },
  "cells": [
    {
      "cell_type": "markdown",
      "metadata": {
        "id": "GxhBH1gCK0L9",
        "colab_type": "text"
      },
      "source": [
        "# グラフの描画"
      ]
    },
    {
      "cell_type": "code",
      "metadata": {
        "id": "-0mcv5WLK0L_",
        "colab_type": "code",
        "colab": {}
      },
      "source": [
        "import numpy as np\n",
        "import matplotlib.pyplot as plt\n",
        "import pandas as pd\n",
        "from pandas import Series, DataFrame"
      ],
      "execution_count": 0,
      "outputs": []
    },
    {
      "cell_type": "code",
      "metadata": {
        "id": "k_UM9XLOK0MD",
        "colab_type": "code",
        "colab": {}
      },
      "source": [
        "from numpy.random import randint"
      ],
      "execution_count": 0,
      "outputs": []
    },
    {
      "cell_type": "markdown",
      "metadata": {
        "id": "21J02BfVK0MF",
        "colab_type": "text"
      },
      "source": [
        "2個のサイコロを100回振った結果を保存"
      ]
    },
    {
      "cell_type": "code",
      "metadata": {
        "id": "nXbZBksRK0MG",
        "colab_type": "code",
        "outputId": "ff84820f-30db-410d-e8c1-497ee34ed51e",
        "colab": {
          "base_uri": "https://localhost:8080/",
          "height": 104
        }
      },
      "source": [
        "dices = randint(1, 7, (100, 2)) \n",
        "dices[:5]"
      ],
      "execution_count": 3,
      "outputs": [
        {
          "output_type": "execute_result",
          "data": {
            "text/plain": [
              "array([[3, 5],\n",
              "       [3, 4],\n",
              "       [6, 5],\n",
              "       [1, 6],\n",
              "       [5, 4]])"
            ]
          },
          "metadata": {
            "tags": []
          },
          "execution_count": 3
        }
      ]
    },
    {
      "cell_type": "markdown",
      "metadata": {
        "id": "_DLnGY17K0ML",
        "colab_type": "text"
      },
      "source": [
        "2個の目の合計を計算"
      ]
    },
    {
      "cell_type": "code",
      "metadata": {
        "id": "sUmNnJ1WK0ML",
        "colab_type": "code",
        "outputId": "e29e0b0c-dd8f-42e3-f0f3-ee6d5dabb32b",
        "colab": {
          "base_uri": "https://localhost:8080/",
          "height": 35
        }
      },
      "source": [
        "total = np.sum(dices, axis=1)\n",
        "total[:5]"
      ],
      "execution_count": 4,
      "outputs": [
        {
          "output_type": "execute_result",
          "data": {
            "text/plain": [
              "array([ 8,  7, 11,  7,  9])"
            ]
          },
          "metadata": {
            "tags": []
          },
          "execution_count": 4
        }
      ]
    },
    {
      "cell_type": "markdown",
      "metadata": {
        "id": "wYbKDwztK0MO",
        "colab_type": "text"
      },
      "source": [
        "それぞれの目について、ゾロ目の回数を計算"
      ]
    },
    {
      "cell_type": "code",
      "metadata": {
        "id": "SvlvExfrK0MP",
        "colab_type": "code",
        "outputId": "5fb6b386-8d2b-40c4-bd24-6f49e74be65f",
        "colab": {
          "base_uri": "https://localhost:8080/",
          "height": 35
        }
      },
      "source": [
        "doublets = [0, 0, 0, 0, 0, 0]\n",
        "for (x, y) in dices:\n",
        "    if x == y:\n",
        "        doublets[x-1] += 1\n",
        "doublets"
      ],
      "execution_count": 5,
      "outputs": [
        {
          "output_type": "execute_result",
          "data": {
            "text/plain": [
              "[6, 5, 1, 2, 5, 2]"
            ]
          },
          "metadata": {
            "tags": []
          },
          "execution_count": 5
        }
      ]
    },
    {
      "cell_type": "markdown",
      "metadata": {
        "id": "nIDpcJbLK0MS",
        "colab_type": "text"
      },
      "source": [
        "目の組み合わせごとの回数を計算"
      ]
    },
    {
      "cell_type": "code",
      "metadata": {
        "id": "iwIHXo2zK0MT",
        "colab_type": "code",
        "outputId": "18bd3f39-fb72-4b52-f37c-feba64e8e424",
        "colab": {
          "base_uri": "https://localhost:8080/",
          "height": 121
        }
      },
      "source": [
        "counts = np.zeros((6, 6))\n",
        "for (x, y) in dices:\n",
        "    counts[y-1, x-1] += 1\n",
        "print (counts)"
      ],
      "execution_count": 6,
      "outputs": [
        {
          "output_type": "stream",
          "text": [
            "[[6. 1. 2. 7. 1. 1.]\n",
            " [1. 5. 4. 4. 2. 1.]\n",
            " [3. 0. 1. 3. 2. 3.]\n",
            " [1. 4. 2. 2. 3. 1.]\n",
            " [5. 3. 4. 0. 5. 6.]\n",
            " [4. 1. 5. 1. 4. 2.]]\n"
          ],
          "name": "stdout"
        }
      ]
    },
    {
      "cell_type": "markdown",
      "metadata": {
        "id": "b3TIf9m4K0MW",
        "colab_type": "text"
      },
      "source": [
        "計算結果をグラフに表示"
      ]
    },
    {
      "cell_type": "code",
      "metadata": {
        "id": "rRvagsvAK0MW",
        "colab_type": "code",
        "outputId": "9446d7a9-a1ed-419a-e8b6-d89bc1a5a7b0",
        "colab": {
          "base_uri": "https://localhost:8080/",
          "height": 313
        }
      },
      "source": [
        "fig = plt.figure(figsize=(14, 4))\n",
        "subplot = fig.add_subplot(1, 3, 1)\n",
        "subplot.set_title('Sum of 2dices')\n",
        "subplot.set_xlabel('Total')\n",
        "subplot.set_ylabel('Count')\n",
        "subplot.set_xlim(1, 13)\n",
        "subplot.hist(total, bins=11, range=(1.5, 12.5), label='Sum')\n",
        "\n",
        "subplot = fig.add_subplot(1, 3, 2)\n",
        "subplot.set_title('Doublets counts')\n",
        "subplot.set_xlabel('Number')\n",
        "subplot.set_ylabel('Count')\n",
        "subplot.set_xlim(0.5, 6.5)\n",
        "subplot.bar(range(1, 7), doublets, align='center')\n",
        "\n",
        "subplot = fig.add_subplot(1, 3, 3)\n",
        "subplot.set_title('Pair counts')\n",
        "subplot.set_xlabel('Dice1')\n",
        "subplot.set_ylabel('Dice2')\n",
        "subplot.imshow(counts,\n",
        "    origin='lower', extent=(0.5, 6.5, 0.5, 6.5),\n",
        "    cmap='jet', interpolation='nearest')"
      ],
      "execution_count": 7,
      "outputs": [
        {
          "output_type": "execute_result",
          "data": {
            "text/plain": [
              "<matplotlib.image.AxesImage at 0x7fcc544ded30>"
            ]
          },
          "metadata": {
            "tags": []
          },
          "execution_count": 7
        },
        {
          "output_type": "display_data",
          "data": {
            "image/png": "[encoded data removed]",
            "text/plain": [
              "<Figure size 1008x288 with 3 Axes>"
            ]
          },
          "metadata": {
            "tags": []
          }
        }
      ]
    },
    {
      "cell_type": "code",
      "metadata": {
        "id": "n9f0FVLWK0MZ",
        "colab_type": "code",
        "colab": {}
      },
      "source": [
        "from numpy.random import normal"
      ],
      "execution_count": 0,
      "outputs": []
    },
    {
      "cell_type": "code",
      "metadata": {
        "id": "Wn8iRYxgK0Mc",
        "colab_type": "code",
        "colab": {}
      },
      "source": [
        "def generate_data01(n):\n",
        "    data_x = []\n",
        "    data_y = []\n",
        "    for i in range(n):\n",
        "        x = float(i) / float(n-1) # [0, 1]をn等分したi番目の値\n",
        "        y = np.sin(2*np.pi*x) + normal(0, 0.3)\n",
        "        data_x.append(x)\n",
        "        data_y.append(y)\n",
        "    return data_x, data_y"
      ],
      "execution_count": 0,
      "outputs": []
    },
    {
      "cell_type": "code",
      "metadata": {
        "id": "recvK7HMK0Me",
        "colab_type": "code",
        "colab": {}
      },
      "source": [
        "def generate_data02(n):\n",
        "    data_x = np.linspace(0, 1, n)\n",
        "    data_y = np.sin(2*np.pi*data_x) + normal(0, 0.3, n)\n",
        "    return data_x, data_y"
      ],
      "execution_count": 0,
      "outputs": []
    },
    {
      "cell_type": "code",
      "metadata": {
        "scrolled": true,
        "id": "jTFOAVVdK0Mg",
        "colab_type": "code",
        "outputId": "546b49cb-844a-48e1-a1d9-44503e3f2f26",
        "colab": {
          "base_uri": "https://localhost:8080/",
          "height": 301
        }
      },
      "source": [
        "fig = plt.figure()\n",
        "\n",
        "data_x, data_y = generate_data01(10)\n",
        "#data_x, data_y = generate_data02(10)\n",
        "\n",
        "subplot = fig.add_subplot(1, 1, 1)\n",
        "subplot.set_xlabel('Observation point')\n",
        "subplot.set_ylabel('Value')\n",
        "subplot.set_xlim(-0.05,1.05)\n",
        "\n",
        "# 生成したデータを表示\n",
        "subplot.scatter(data_x, data_y,\n",
        "                marker='o', color='blue',\n",
        "                label='Observed value')\n",
        "\n",
        "# 三角関数の曲線を表示\n",
        "linex = np.linspace(0, 1, 100)\n",
        "liney = np.sin(2*np.pi*linex)\n",
        "subplot.plot(linex, liney,\n",
        "             linestyle='--', color='green', \n",
        "             label='Theoretical curve')\n",
        "\n",
        "# 凡例を表示\n",
        "subplot.legend(loc=1)"
      ],
      "execution_count": 11,
      "outputs": [
        {
          "output_type": "execute_result",
          "data": {
            "text/plain": [
              "<matplotlib.legend.Legend at 0x7fcc51bcef60>"
            ]
          },
          "metadata": {
            "tags": []
          },
          "execution_count": 11
        },
        {
          "output_type": "display_data",
          "data": {
            "image/png": "[encoded data removed]",
            "text/plain": [
              "<Figure size 432x288 with 1 Axes>"
            ]
          },
          "metadata": {
            "tags": []
          }
        }
      ]
    },
    {
      "cell_type": "markdown",
      "metadata": {
        "id": "plgo221hKay7",
        "colab_type": "text"
      },
      "source": [
        "## 練習問題"
      ]
    },
    {
      "cell_type": "markdown",
      "metadata": {
        "id": "hrlCBh7ZKay8",
        "colab_type": "text"
      },
      "source": [
        "(1) $-1\\le x\\le 1$ の範囲で、$\\sin(2\\pi x)$ と $\\cos(2\\pi x)$ のグラフを重ねて表示してください。軸ラベルや凡例などを好みで追加してください。 "
      ]
    },
    {
      "cell_type": "markdown",
      "metadata": {
        "id": "GbNJfhb3KazC",
        "colab_type": "text"
      },
      "source": [
        "(2) $-1\\le x\\le 1$ の範囲で、$\\sin(2\\pi x)$ と $\\cos(2\\pi x)$ のグラフを（上下2段に）別々に表示してください。軸ラベルや凡例などを好みで追加してください。 "
      ]
    },
    {
      "cell_type": "markdown",
      "metadata": {
        "id": "Tg7-bozJKazG",
        "colab_type": "text"
      },
      "source": [
        "(3) 次は、$-10\\le x\\le 10,\\,-10\\le y\\le 10$（$x,\\,y$ は整数）の範囲について、$x^2 + y^2$ の値を保存した10x10行列（array）を用意して、ヒートマップを描くコードです。"
      ]
    },
    {
      "cell_type": "code",
      "metadata": {
        "scrolled": true,
        "id": "rFIHzWBvKazH",
        "colab_type": "code",
        "outputId": "cd47e842-d63c-45c7-8e5d-20bb14d377c0",
        "colab": {
          "base_uri": "https://localhost:8080/",
          "height": 286
        }
      },
      "source": [
        "data = np.array([[x**2 + y**2\n",
        "                  for x in range(-10, 11)] \n",
        "                 for y in range(-10, 11)])\n",
        "fig = plt.figure()\n",
        "subplot = fig.add_subplot(1, 1, 1)\n",
        "subplot.imshow(data, origin='lower', extent=(-10, 10, -10, 10),\n",
        "               cmap='jet', interpolation='nearest')"
      ],
      "execution_count": 12,
      "outputs": [
        {
          "output_type": "execute_result",
          "data": {
            "text/plain": [
              "<matplotlib.image.AxesImage at 0x7fcc51b43c18>"
            ]
          },
          "metadata": {
            "tags": []
          },
          "execution_count": 12
        },
        {
          "output_type": "display_data",
          "data": {
            "image/png": "[encoded data removed]",
            "text/plain": [
              "<Figure size 432x288 with 1 Axes>"
            ]
          },
          "metadata": {
            "tags": []
          }
        }
      ]
    },
    {
      "cell_type": "markdown",
      "metadata": {
        "id": "nbz2H2teKazM",
        "colab_type": "text"
      },
      "source": [
        "`imshow` メソッドのオプション `interpolation='nearest'` を `interpolation='bilinear'` に変えると、結果がどのように変わるか確認してください。さらに、オプション `cmap='jet'` を `cmap=plt.cm.gray_r` に変えた場合を確認してください。"
      ]
    },
    {
      "cell_type": "markdown",
      "metadata": {
        "id": "rWqCxXcYKazU",
        "colab_type": "text"
      },
      "source": [
        "(4) 次は、(3)と同じデータを $0\\le x\\le 10,\\,0\\le y\\le 10$ の範囲に制限したものです。(3)と同様のコードでヒートマップを描いて、`origin` オプションの有無、もしくは、`extent` オプションに指定する値を変更した際に、グラフがどのように変化するか観察してください。\n",
        "\n",
        "（ヒント：`extent` オプションは、グラフの目盛りに付ける数値を指定するもので、グラフに描くデータの範囲を指定するものではありません。）"
      ]
    },
    {
      "cell_type": "code",
      "metadata": {
        "id": "VOPYxkvSKazX",
        "colab_type": "code",
        "colab": {}
      },
      "source": [
        "data = np.array([[x**2 + y**2\n",
        "                  for x in range(0, 11)]\n",
        "                 for y in range(0, 11)])"
      ],
      "execution_count": 0,
      "outputs": []
    }
  ]
}